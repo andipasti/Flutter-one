{
  "cells": [
    {
      "cell_type": "markdown",
      "metadata": {
        "id": "view-in-github",
        "colab_type": "text"
      },
      "source": [
        "<a href=\"https://colab.research.google.com/github/andipasti/Flutter-one/blob/main/Classic_LLM_openai_28_04_24.ipynb\" target=\"_parent\"><img src=\"https://colab.research.google.com/assets/colab-badge.svg\" alt=\"Open In Colab\"/></a>"
      ]
    },
    {
      "cell_type": "markdown",
      "metadata": {
        "id": "DNSHHKfaCvHu"
      },
      "source": [
        "# MASTER THESIS"
      ]
    },
    {
      "cell_type": "markdown",
      "metadata": {
        "id": "e7DxzokNC9D5"
      },
      "source": [
        "### INITIALIZATION"
      ]
    },
    {
      "cell_type": "code",
      "execution_count": 1,
      "metadata": {
        "id": "iAHuRdyoMU_e"
      },
      "outputs": [],
      "source": [
        "#SETTING GLOBALS\n",
        "\n",
        "DF_SMALL = './drive/Othercomputers/X1/code/datas_small.json'\n",
        "DF_MID = './drive/Othercomputers/X1/code/datas_mid.json'\n",
        "DF_LARGE = './drive/Othercomputers/X1/code/datas_large.json'\n",
        "\n",
        "DF_SMALL_SUM = './drive/Othercomputers/X1/code/processed_summarization_per_ticket_small.json'\n",
        "DF_MID_SUM = './drive/Othercomputers/X1/code/processed_summarization_per_ticket_mid.json'\n",
        "DF_LARGE_SUM = './drive/Othercomputers/X1/code/processed_summarization_per_ticket_large.json'\n",
        "\n",
        "EMBEDDINGS_SMALL = './drive/Othercomputers/X1/code/embeddings/embeddings-small-initial.npy'\n",
        "EMBEDDINGS_MID = './drive/Othercomputers/X1/code/embeddings/embeddings-mid-initial.npy'\n",
        "EMBEDDINGS_LARGE = './drive/Othercomputers/X1/code/embeddings/embeddings-large-initial.npy'\n",
        "\n",
        "EMBEDDINGS_SMALL_UPDATED = './drive/Othercomputers/X1/code/embeddings/embeddings-updated-mid.npy'\n",
        "EMBEDDINGS_MID_UPDATED = './drive/Othercomputers/X1/code/embeddings/embeddings-updated-mid.npy'\n",
        "EMBEDDINGS_LARGE_UPDATED = './drive/Othercomputers/X1/code/embeddings/embeddings-updated-mid.npy'\n",
        "\n",
        "MAX_DISTANCE = 2;\n",
        "\n",
        "\n"
      ]
    },
    {
      "cell_type": "code",
      "source": [
        "# INSTALL NEEDED LIBRARIES\n",
        "!pip install -q openai==0.28\n",
        "!pip install -q umap-learn\n",
        "!pip install -q wordcloud"
      ],
      "metadata": {
        "id": "RQ02RQs46d9-"
      },
      "execution_count": 2,
      "outputs": []
    },
    {
      "cell_type": "code",
      "source": [
        "# IMPORTS\n",
        "import os\n",
        "import openai\n",
        "import pandas as pd\n",
        "\n",
        "import nltk\n",
        "from nltk.corpus import stopwords\n",
        "from nltk.stem import WordNetLemmatizer\n",
        "from nltk.stem.snowball import SnowballStemmer\n",
        "import re\n",
        "\n",
        "from scipy.cluster.hierarchy import dendrogram, linkage\n",
        "import matplotlib.pyplot as plt\n",
        "import numpy as np\n",
        "from sklearn.cluster import KMeans\n",
        "from sklearn.manifold import TSNE\n",
        "\n",
        "import ipywidgets as widgets\n",
        "from IPython.display import display\n",
        "\n",
        "from sklearn.metrics.pairwise import euclidean_distances\n",
        "\n",
        "from scipy.cluster.hierarchy import fcluster\n",
        "\n",
        "from sklearn.cluster import DBSCAN\n",
        "from sklearn.preprocessing import StandardScaler\n",
        "\n",
        "from sklearn.cluster import SpectralClustering\n",
        "\n",
        "import umap\n",
        "\n",
        "from sklearn.metrics import silhouette_score, davies_bouldin_score\n",
        "\n",
        "from wordcloud import WordCloud\n",
        "\n",
        "from google.colab import files\n",
        "\n",
        "\n"
      ],
      "metadata": {
        "id": "2rVdhzOmTYlB"
      },
      "execution_count": 3,
      "outputs": []
    },
    {
      "cell_type": "code",
      "execution_count": 4,
      "metadata": {
        "colab": {
          "base_uri": "https://localhost:8080/"
        },
        "id": "-Jgv2mj-CVxL",
        "outputId": "3c825d04-02c5-44d0-eb5c-d8b692ef8825",
        "collapsed": true
      },
      "outputs": [
        {
          "output_type": "stream",
          "name": "stderr",
          "text": [
            "[nltk_data] Downloading package punkt to /root/nltk_data...\n",
            "[nltk_data]   Package punkt is already up-to-date!\n",
            "[nltk_data] Downloading package stopwords to /root/nltk_data...\n",
            "[nltk_data]   Package stopwords is already up-to-date!\n",
            "[nltk_data] Downloading package wordnet to /root/nltk_data...\n",
            "[nltk_data]   Package wordnet is already up-to-date!\n"
          ]
        }
      ],
      "source": [
        "# Download necessary NLTK resources\n",
        "nltk.download('punkt')  # Tokenizers\n",
        "nltk.download('stopwords')  # Stopwords list for English and German\n",
        "nltk.download('wordnet')\n",
        "\n",
        "# Set up stopwords for both German and English\n",
        "stop_words = set(stopwords.words('english')).union(set(stopwords.words('german')))\n"
      ]
    },
    {
      "cell_type": "code",
      "execution_count": 5,
      "metadata": {
        "id": "0dW94RB9B4Iu"
      },
      "outputs": [],
      "source": [
        "# CREATE ACCESS TO SECRETS\n",
        "# Now you can proceed with your code that requires this environment variable\n",
        "from google.colab import userdata\n",
        "os.environ['HUGGINGFACE_TOKEN'] = userdata.get('HUGGINGFACE_TOKEN')"
      ]
    },
    {
      "cell_type": "code",
      "execution_count": 6,
      "metadata": {
        "colab": {
          "base_uri": "https://localhost:8080/"
        },
        "id": "x2usZnsPDTPX",
        "outputId": "7112b5a7-bf5a-4d10-c655-99c8aade29fa"
      },
      "outputs": [
        {
          "output_type": "stream",
          "name": "stdout",
          "text": [
            "DONE\n"
          ]
        }
      ],
      "source": [
        "from google.colab import userdata\n",
        "os.environ['OPENAI_API_KEY'] = userdata.get('OPENAI_API_KEY')\n",
        "print(\"DONE\")"
      ]
    },
    {
      "cell_type": "code",
      "execution_count": 7,
      "metadata": {
        "colab": {
          "base_uri": "https://localhost:8080/"
        },
        "id": "R7fGWY63DT_4",
        "outputId": "e402316b-74c4-418d-f74d-58553382ac0a"
      },
      "outputs": [
        {
          "output_type": "stream",
          "name": "stdout",
          "text": [
            "OpenAI API key is set.\n"
          ]
        }
      ],
      "source": [
        "# CHECKING\n",
        "\n",
        "# Check if the OPENAI_API_KEY environment variable is set\n",
        "if \"OPENAI_API_KEY\" in os.environ:\n",
        "    print(\"OpenAI API key is set.\")\n",
        "else:\n",
        "    print(\"OpenAI API key is not set.\")\n",
        "\n"
      ]
    },
    {
      "cell_type": "code",
      "execution_count": 8,
      "metadata": {
        "id": "8x5_GAVb7BCT",
        "colab": {
          "base_uri": "https://localhost:8080/"
        },
        "outputId": "99d064dc-e86e-4705-c965-3138950f492c"
      },
      "outputs": [
        {
          "output_type": "stream",
          "name": "stdout",
          "text": [
            "Drive already mounted at /content/drive; to attempt to forcibly remount, call drive.mount(\"/content/drive\", force_remount=True).\n"
          ]
        }
      ],
      "source": [
        "# CONNECT TO DRIVE\n",
        "from google.colab import drive\n",
        "drive.mount('/content/drive')"
      ]
    },
    {
      "cell_type": "markdown",
      "metadata": {
        "id": "OmY0vi2TDaUJ"
      },
      "source": [
        "\n",
        "\n",
        "---\n",
        "\n"
      ]
    },
    {
      "cell_type": "markdown",
      "metadata": {
        "id": "LBwl74V5DFtC"
      },
      "source": [
        "### GETTING DATAS AND PREPROCESSING"
      ]
    },
    {
      "cell_type": "code",
      "execution_count": 9,
      "metadata": {
        "id": "jSfkp7fiDYFi"
      },
      "outputs": [],
      "source": [
        "# LOAD DATAS\n",
        "def load_datas(config_key):\n",
        "  print(config_key)\n",
        "  df = pd.read_json(config_key)\n",
        "  return df"
      ]
    },
    {
      "cell_type": "code",
      "execution_count": 10,
      "metadata": {
        "id": "u0bVk2l_Ddun"
      },
      "outputs": [],
      "source": [
        "def print_column_names(df):\n",
        "  column_names = list(df.columns)\n",
        "  print(column_names)"
      ]
    },
    {
      "cell_type": "code",
      "execution_count": 11,
      "metadata": {
        "id": "sPTyUg0_Dfii"
      },
      "outputs": [],
      "source": [
        "def drop_columns(df, columns):\n",
        "  return df.drop(columns=columns, errors='ignore')"
      ]
    },
    {
      "cell_type": "code",
      "execution_count": 12,
      "metadata": {
        "id": "GNCqVvbEpbZj"
      },
      "outputs": [],
      "source": [
        "def replace_special_signs(df, column):\n",
        "  df[column] = df[column].str.replace(r\"[\\n\\r]\", \" \", regex=True)\n",
        "  df[column] = df[column].str.replace(r\"[^a-zA-Z0-9\\s.,;!?äüöéèà']\", \"\", regex=True)\n",
        "  return df"
      ]
    },
    {
      "cell_type": "code",
      "execution_count": 13,
      "metadata": {
        "id": "MyYaQBSBmeWK"
      },
      "outputs": [],
      "source": [
        "def combine_columns(df, source_cols, new_col_name, separator=\" \"):\n",
        "  df[new_col_name] = df[source_cols].astype(str).agg(separator.join, axis=1)\n",
        "  return df"
      ]
    },
    {
      "cell_type": "markdown",
      "metadata": {
        "id": "najjKVvEyQsq"
      },
      "source": [
        "### RESTRUCTURE TICKET INFORMATION WITH HELP OF LLM"
      ]
    },
    {
      "cell_type": "code",
      "execution_count": 14,
      "metadata": {
        "id": "kv3AfNCjy7Ux"
      },
      "outputs": [],
      "source": [
        "def rework_ticket_description(ticket_text, detailed_instructions, model):\n",
        "    \"\"\"\n",
        "    Reworks a ticket description into a structured summary using the specified GPT model.\n",
        "\n",
        "    :param ticket_text: The text of the ticket.\n",
        "    :param detailed_instructions: Detailed instructions for the model.\n",
        "    :param model: The model identifier to use.\n",
        "    :return: Reworked ticket text.\n",
        "    \"\"\"\n",
        "    openai.api_key = os.getenv(\"OPENAI_API_KEY\")\n",
        "\n",
        "    try:\n",
        "        response = openai.ChatCompletion.create(\n",
        "            model=model,\n",
        "            messages=[\n",
        "                {\"role\": \"system\", \"content\": detailed_instructions},\n",
        "                {\"role\": \"user\", \"content\": ticket_text}\n",
        "            ]\n",
        "        )\n",
        "\n",
        "        if response and 'choices' in response and len(response['choices']) > 0:\n",
        "            reworked_text = response['choices'][0].get('message', {}).get('content', '')\n",
        "            return reworked_text.strip()\n",
        "        else:\n",
        "            return \"Failed to generate reworked text. No valid response.\"\n",
        "    except Exception as e:\n",
        "        return f\"An error occurred: {str(e)}\""
      ]
    },
    {
      "cell_type": "code",
      "source": [],
      "metadata": {
        "id": "Eu0Sahg18pIJ"
      },
      "execution_count": 14,
      "outputs": []
    },
    {
      "cell_type": "code",
      "execution_count": 15,
      "metadata": {
        "id": "CC9TX39JDs6w"
      },
      "outputs": [],
      "source": [
        "def rework_ticket_information(file_path, df, detailed_instructions, model=\"gpt-3.5-turbo\"):\n",
        "    \"\"\"\n",
        "    Check if a processed file exists. If not, process the tickets using GPT-Turbo and save the new data.\n",
        "\n",
        "    :param file_path: Path to the processed file.\n",
        "    :param df: DataFrame containing the ticket descriptions.\n",
        "    :param detailed_instructions: Instructions for GPT model summarization.\n",
        "    :param model: The model identifier to use with OpenAI's API.\n",
        "    \"\"\"\n",
        "    if not os.path.exists(file_path):\n",
        "        print(\"NO FILE\")\n",
        "        # If the file does not exist, apply the function to rework ticket descriptions\n",
        "        df['reworked_information'] = df['combined_text'].apply(lambda x: rework_ticket_description(x, detailed_instructions, model))\n",
        "        df.to_json(file_path, orient='records', lines=True)\n",
        "        files.download(file_path)\n",
        "        print(\"Processed new data and saved to file.\")\n",
        "    else:\n",
        "        print(\"FILE EXISTS\")\n",
        "        # Load the existing file if it already exists\n",
        "        print(\"FILEPATH: \", file_path)\n",
        "        print(df)\n",
        "        pd.read_json(file_path, lines=True)\n",
        "        print(\"File exists. Loaded existing data.\")\n",
        "\n",
        "    return df\n"
      ]
    },
    {
      "cell_type": "code",
      "execution_count": 16,
      "metadata": {
        "id": "kHzdJsnIFyYM"
      },
      "outputs": [],
      "source": [
        "def clean_datas_in_col(text):\n",
        "    \"\"\" Cleans the text data by removing specific words and non-alphabetical characters. \"\"\"\n",
        "    if not isinstance(text, str):\n",
        "        return \"\"  # Return empty string if text is not a string\n",
        "\n",
        "    text = text.lower()\n",
        "    specific_unwanted_words = ['reported problem', 'ticket', 'summary', 'affected systems', 'reported problem', 'issue']\n",
        "    pattern = r'\\b(?:' + '|'.join(specific_unwanted_words) + r')\\b'\n",
        "    text = re.sub(pattern, '', text)\n",
        "\n",
        "    words = nltk.word_tokenize(text)\n",
        "    words = [word for word in words if word not in stop_words and word.isalpha()]\n",
        "\n",
        "    return ' '.join(words)\n",
        "\n",
        "def clean_datas(df, column_name):\n",
        "    \"\"\" Applies text cleaning to a specified column in the DataFrame. \"\"\"\n",
        "    df[column_name + '_cleaned'] = df[column_name].apply(clean_datas_in_col)\n",
        "    return df\n",
        "\n"
      ]
    },
    {
      "cell_type": "markdown",
      "metadata": {
        "id": "peYs16m3EhmV"
      },
      "source": [
        "## CREATE EMBEDDING"
      ]
    },
    {
      "cell_type": "code",
      "execution_count": 95,
      "metadata": {
        "id": "-qivnbJ8Vdaj",
        "colab": {
          "base_uri": "https://localhost:8080/",
          "height": 127
        },
        "outputId": "3b5f17e7-e925-45af-b210-a2cbf7cb9294"
      },
      "outputs": [
        {
          "output_type": "execute_result",
          "data": {
            "text/plain": [
              "'\\n\\ndef get_embeddings_impl(texts, embeddings_file_path):\\n  \"\"\"\\n  Retrieves or generates embeddings for a list of texts using OpenAI\\'s API and stores/retrieves them from a file.\\n\\n  :param texts: List of text strings to embed.\\n  :param embeddings_file_path: Path to save or load the embeddings numpy file.\\n  :return: Numpy array of embeddings.\\n  \"\"\"\\n  # Explicitly set the OpenAI API key\\n  openai.api_key = os.getenv(\"OPENAI_API_KEY\")\\n\\n  if not os.path.exists(embeddings_file_path):\\n      if not texts:\\n          raise ValueError(\"Texts list is empty, no embeddings to generate.\")\\n\\n      embeddings = []\\n      for text in texts:\\n          response = openai.Embedding.create(\\n              input=text,\\n              engine=\"text-embedding-ada-002\"\\n          )\\n          if \\'data\\' in response and response[\\'data\\']:\\n              embeddings.append(response[\\'data\\'][0][\\'embedding\\'])\\n          else:\\n              embeddings.append(np.zeros(1024))  # Assuming embedding size of 1024, adjust as necessary\\n\\n      # Save the embeddings if any were successfully generated\\n      np.save(embeddings_file_path, embeddings)\\n  else:\\n      embeddings = np.load(embeddings_file_path)\\n      print(\"EMBEDDING read: \", embeddings.shape)\\n\\n  embeddings_array = np.array(embeddings)\\n  if embeddings_array.ndim != 2:\\n      raise ValueError(f\"Expected 2D array for embeddings, got shape {embeddings_array.shape}\")\\n\\n  return embeddings_array\\n\\n\\n'"
            ],
            "application/vnd.google.colaboratory.intrinsic+json": {
              "type": "string"
            }
          },
          "metadata": {},
          "execution_count": 95
        }
      ],
      "source": [
        "# USE OPENAI MODEL TO CREATE EMBEDDINGS OUT OF REWORKED INFORMATION\n",
        "\n",
        "# Function to get embeddings from OpenAI\n",
        "\n",
        "def get_embeddings_impl(texts, embeddings_file_path):\n",
        "\n",
        "  # Explicitly set the OpenAI API key\n",
        "  openai.api_key = os.getenv(\"OPENAI_API_KEY\")\n",
        "\n",
        "  if not os.path.exists(embeddings_file_path):\n",
        "    embeddings = []\n",
        "    for text in texts:\n",
        "        response = openai.Embedding.create(\n",
        "            input=text,\n",
        "            engine=\"text-embedding-ada-002\"\n",
        "        )\n",
        "        embeddings.append(response['data'][0]['embedding'])\n",
        "\n",
        "    # save:\n",
        "    np.save(embeddings_file_path, embeddings)\n",
        "  else:\n",
        "    embeddings = np.load(embeddings_file_path)\n",
        "    print(\"EMBEDDING read: \", embeddings.shape[0])\n",
        "\n",
        "  return np.array(embeddings)\n",
        "\n",
        "'''\n",
        "\n",
        "def get_embeddings_impl(texts, embeddings_file_path):\n",
        "  \"\"\"\n",
        "  Retrieves or generates embeddings for a list of texts using OpenAI's API and stores/retrieves them from a file.\n",
        "\n",
        "  :param texts: List of text strings to embed.\n",
        "  :param embeddings_file_path: Path to save or load the embeddings numpy file.\n",
        "  :return: Numpy array of embeddings.\n",
        "  \"\"\"\n",
        "  # Explicitly set the OpenAI API key\n",
        "  openai.api_key = os.getenv(\"OPENAI_API_KEY\")\n",
        "\n",
        "  if not os.path.exists(embeddings_file_path):\n",
        "      if not texts:\n",
        "          raise ValueError(\"Texts list is empty, no embeddings to generate.\")\n",
        "\n",
        "      embeddings = []\n",
        "      for text in texts:\n",
        "          response = openai.Embedding.create(\n",
        "              input=text,\n",
        "              engine=\"text-embedding-ada-002\"\n",
        "          )\n",
        "          if 'data' in response and response['data']:\n",
        "              embeddings.append(response['data'][0]['embedding'])\n",
        "          else:\n",
        "              embeddings.append(np.zeros(1024))  # Assuming embedding size of 1024, adjust as necessary\n",
        "\n",
        "      # Save the embeddings if any were successfully generated\n",
        "      np.save(embeddings_file_path, embeddings)\n",
        "  else:\n",
        "      embeddings = np.load(embeddings_file_path)\n",
        "      print(\"EMBEDDING read: \", embeddings.shape)\n",
        "\n",
        "  embeddings_array = np.array(embeddings)\n",
        "  if embeddings_array.ndim != 2:\n",
        "      raise ValueError(f\"Expected 2D array for embeddings, got shape {embeddings_array.shape}\")\n",
        "\n",
        "  return embeddings_array\n",
        "\n",
        "\n",
        "'''"
      ]
    },
    {
      "cell_type": "markdown",
      "metadata": {
        "id": "30CUT37DImGB"
      },
      "source": [
        "TODO:  \n",
        "- different models\n",
        "- optimize preprocessing (normalize, stopwords, lemmatization,...)\n",
        "- fine-tuning embeddings /hybrid approach (using z.b randomForest after clustering)\n",
        "- dimensionality reduction (PCA f.e.)\n"
      ]
    },
    {
      "cell_type": "markdown",
      "metadata": {
        "id": "S8ckKNThE5tT"
      },
      "source": [
        "## CREATE CLUSTERS V1\n",
        "\n",
        "### WARD"
      ]
    },
    {
      "cell_type": "code",
      "execution_count": 17,
      "metadata": {
        "id": "h8ACXwP7m5yI"
      },
      "outputs": [],
      "source": [
        "\n"
      ]
    },
    {
      "cell_type": "code",
      "source": [
        "def plot_dendrogram(Z, title='Hierarchical Clustering Dendrogram', xlabel='Sample index or (Cluster size)', ylabel='Distance'):\n",
        "    \"\"\"\n",
        "    Plot a dendrogram to visualize hierarchical clustering results.\n",
        "\n",
        "    :param Z: Linkage matrix from hierarchical clustering.\n",
        "    :param title: Title of the dendrogram.\n",
        "    :param xlabel: Label for the x-axis.\n",
        "    :param ylabel: Label for the y-axis.\n",
        "    \"\"\"\n",
        "    if Z is None:\n",
        "        print(\"No linkage matrix provided for plotting.\")\n",
        "        return\n",
        "\n",
        "    plt.figure(figsize=(25, 10))\n",
        "    dendrogram(\n",
        "        Z,\n",
        "        leaf_rotation=90.,  # rotates the x axis labels\n",
        "        leaf_font_size=8.,  # font size for the x axis labels\n",
        "    )\n",
        "    plt.title(title)\n",
        "    plt.xlabel(xlabel)\n",
        "    plt.ylabel(ylabel)\n",
        "    plt.show()\n"
      ],
      "metadata": {
        "id": "IEUdu04hS7_K"
      },
      "execution_count": 18,
      "outputs": []
    },
    {
      "cell_type": "markdown",
      "source": [
        "### DBSCAN"
      ],
      "metadata": {
        "id": "2eJVGbEUQZhJ"
      }
    },
    {
      "cell_type": "code",
      "execution_count": 19,
      "metadata": {
        "id": "ijRAk70d-Azf"
      },
      "outputs": [],
      "source": [
        "# Optional: Plot clusters if you wish to visualize\n",
        "# plot_clusters_with_umap(matrix, clusters)\n",
        "\n",
        "\n",
        "def plot_clusters(matrix, clusters):\n",
        "    # Perform dimensionality reduction for visualization if it's not 2D\n",
        "    tsne = TSNE(n_components=2, random_state=42)\n",
        "    matrix_2d = tsne.fit_transform(matrix)\n",
        "\n",
        "    plt.figure(figsize=(10, 8))\n",
        "    scatter = plt.scatter(matrix_2d[:, 0], matrix_2d[:, 1], c=clusters, cmap='viridis')\n",
        "    plt.colorbar(scatter)\n",
        "    plt.title('DBSCAN Clustering Visualization')\n",
        "    plt.xlabel('TSNE Dimension 1')\n",
        "    plt.ylabel('TSNE Dimension 2')\n",
        "    plt.show()\n",
        "\n",
        "def plot_clusters_with_umap(matrix, clusters):\n",
        "    # Use UMAP for dimensionality reduction\n",
        "    reducer = umap.UMAP(random_state=42)\n",
        "    matrix_2d = reducer.fit_transform(matrix)\n",
        "\n",
        "    plt.figure(figsize=(10, 8))\n",
        "    scatter = plt.scatter(matrix_2d[:, 0], matrix_2d[:, 1], c=clusters, cmap='viridis')\n",
        "    plt.colorbar(scatter)\n",
        "    plt.title('DBSCAN Clustering Visualization with UMAP')\n",
        "    plt.xlabel('UMAP Dimension 1')\n",
        "    plt.ylabel('UMAP Dimension 2')\n",
        "    plt.show()\n"
      ]
    },
    {
      "cell_type": "code",
      "execution_count": 20,
      "metadata": {
        "id": "nbE_G5lzbKme"
      },
      "outputs": [],
      "source": [
        "# Assuming 'matrix' is your embeddings matrix obtained from get_openai_embeddings function\n",
        "def perform_kmeans_clustering(matrix, num_clusters):\n",
        "    kmeans = KMeans(n_clusters=num_clusters, init='k-means++', random_state=42)\n",
        "    clusters = kmeans.fit_predict(matrix)\n",
        "    return clusters\n"
      ]
    },
    {
      "cell_type": "code",
      "source": [
        "def perform_dbscan_clustering(matrix, eps=0.5, min_samples=5):\n",
        "    dbscan = DBSCAN(eps=eps, min_samples=min_samples)\n",
        "    clusters = dbscan.fit_predict(matrix)\n",
        "    return clusters\n"
      ],
      "metadata": {
        "id": "nEMNY9IfnmDQ"
      },
      "execution_count": 21,
      "outputs": []
    },
    {
      "cell_type": "code",
      "source": [
        "def perform_spectral_clustering(matrix, n_clusters):\n",
        "    spectral = SpectralClustering(n_clusters=n_clusters, affinity='nearest_neighbors',\n",
        "                                  assign_labels='kmeans', random_state=42)\n",
        "    clusters = spectral.fit_predict(matrix)\n",
        "    return clusters\n"
      ],
      "metadata": {
        "id": "CTslVfmWTvMG"
      },
      "execution_count": 22,
      "outputs": []
    },
    {
      "cell_type": "code",
      "execution_count": 23,
      "metadata": {
        "id": "FF70HCiixtAY"
      },
      "outputs": [],
      "source": [
        "def perform_hierarchical_clustering(matrix, num_clusters, method='ward'):\n",
        "    Z = linkage(matrix, method=method)\n",
        "    clusters = fcluster(Z, num_clusters, criterion='maxclust')\n",
        "    return clusters"
      ]
    },
    {
      "cell_type": "markdown",
      "metadata": {
        "id": "nrJIlT6BFXeC"
      },
      "source": [
        "### CHECK HOW MANY CLUSTERS WOULD BE USEFUL (KMEANS)"
      ]
    },
    {
      "cell_type": "code",
      "execution_count": 24,
      "metadata": {
        "id": "cd3gKlbhm7II"
      },
      "outputs": [],
      "source": [
        "def calculate_wcss(matrix, max_clusters=10):\n",
        "    \"\"\"\n",
        "    Calculate the Within-Cluster Sum of Squares (WCSS) for different numbers of clusters in K-Means.\n",
        "\n",
        "    :param matrix: 2D numpy array of data points.\n",
        "    :param max_clusters: Maximum number of clusters to test.\n",
        "    :return: List of WCSS values.\n",
        "    \"\"\"\n",
        "    wcss = []\n",
        "    for i in range(1, max_clusters + 1):\n",
        "        kmeans = KMeans(n_clusters=i, init='k-means++', max_iter=300, n_init=15, random_state=0)\n",
        "        kmeans.fit(matrix)\n",
        "        wcss.append(kmeans.inertia_)\n",
        "    return wcss\n"
      ]
    },
    {
      "cell_type": "code",
      "source": [
        "def determine_optimal_clusters_elbow(matrix, max_clusters=10):\n",
        "    # Handle potential NaN values robustly\n",
        "    if np.isnan(matrix).any():\n",
        "        print(\"Matrix contains NaN values. Consider removing or imputing these values.\")\n",
        "        matrix = np.nan_to_num(matrix, nan=np.nanmean(matrix, axis=0))\n",
        "\n",
        "    # Ensure it's a 2D array suitable for KMeans\n",
        "    if len(matrix.shape) == 1:\n",
        "        matrix = matrix.reshape(-1, 1)\n",
        "\n",
        "    wcss = []\n",
        "    for i in range(1, max_clusters + 1):\n",
        "        kmeans = KMeans(n_clusters=i, init='k-means++', max_iter=300, n_init=10, random_state=42)\n",
        "        kmeans.fit(matrix)\n",
        "        wcss.append(kmeans.inertia_)\n",
        "\n",
        "    # Plot WCSS to see the elbow\n",
        "    plt.plot(range(1, max_clusters + 1), wcss)\n",
        "    plt.title('Elbow Method')\n",
        "    plt.xlabel('Number of clusters')\n",
        "    plt.ylabel('WCSS')\n",
        "    plt.show()\n",
        "\n",
        "    # Calculate the second derivative of the WCSS\n",
        "    # The first derivative shows the rate of change between each point\n",
        "    # The second derivative shows the change in the rate of change\n",
        "    second_derivative = np.diff(wcss, 2)\n",
        "\n",
        "    # The elbow is typically considered where the second derivative is minimum\n",
        "    elbow_point = np.argmin(second_derivative) + 2  # +2 because np.diff reduces the array size by 1 each time\n",
        "\n",
        "    return elbow_point\n"
      ],
      "metadata": {
        "id": "KA3Zhos5T3wo"
      },
      "execution_count": 115,
      "outputs": []
    },
    {
      "cell_type": "code",
      "execution_count": 25,
      "metadata": {
        "id": "qFciMxR4agAu"
      },
      "outputs": [],
      "source": []
    },
    {
      "cell_type": "code",
      "source": [
        "def visualize_umap(embeddings, clusters):\n",
        "    umap_reducer = umap.UMAP()\n",
        "    umap_result = umap_reducer.fit_transform(embeddings)\n",
        "    plt.figure(figsize=(10, 6))\n",
        "    scatter = plt.scatter(umap_result[:, 0], umap_result[:, 1], c=clusters, cmap='viridis', alpha=0.7)\n",
        "    plt.colorbar(scatter)\n",
        "    plt.title('UMAP Visualization of Clusters')\n",
        "    plt.xlabel('UMAP Feature 1')\n",
        "    plt.ylabel('UMAP Feature 2')\n",
        "    plt.show()"
      ],
      "metadata": {
        "id": "IfmYE1iKVF4y"
      },
      "execution_count": 26,
      "outputs": []
    },
    {
      "cell_type": "code",
      "execution_count": 27,
      "metadata": {
        "id": "ooqwllfp5iH9"
      },
      "outputs": [],
      "source": [
        "def clean_text(text):\n",
        "    \"\"\"\n",
        "    Cleans text by removing specific unwanted words and filtering out non-alphabetical characters.\n",
        "\n",
        "    :param text: Text to be cleaned.\n",
        "    :return: Cleaned text as a string.\n",
        "    \"\"\"\n",
        "    if not isinstance(text, str):\n",
        "        return \"\"  # Return empty string if text is not a string\n",
        "\n",
        "    # List of specific unwanted words\n",
        "    unwanted_words = ['reported problem', 'ticket', 'summary', 'affected systems', 'issue']\n",
        "    pattern = r'\\b(?:' + '|'.join(unwanted_words) + r')\\b'\n",
        "\n",
        "    text = text.lower()\n",
        "    text = re.sub(pattern, '', text)\n",
        "\n",
        "    words = nltk.word_tokenize(text)\n",
        "    words = [word for word in words if word not in stop_words and word.isalpha()]\n",
        "\n",
        "    return ' '.join(words)\n",
        "\n",
        "def clean_datas(df, column_name):\n",
        "    \"\"\"\n",
        "    Applies text cleaning to a specified column in the DataFrame and updates the column directly.\n",
        "\n",
        "    :param df: DataFrame containing the data.\n",
        "    :param column_name: Name of the column to clean.\n",
        "    :return: DataFrame with cleaned text in the same column.\n",
        "    \"\"\"\n",
        "    df[column_name + '_cleaned'] = df[column_name].apply(clean_text)\n",
        "    return df\n"
      ]
    },
    {
      "cell_type": "markdown",
      "metadata": {
        "id": "nVj9le13Uot-"
      },
      "source": [
        "CHECKPOINT 1: EVALUATE CLUSTERING"
      ]
    },
    {
      "cell_type": "code",
      "source": [],
      "metadata": {
        "id": "fLORVenjQu9P"
      },
      "execution_count": 27,
      "outputs": []
    },
    {
      "cell_type": "code",
      "source": [
        "def plot_clusters_with_umap(matrix, clusters, title):\n",
        "    umap_reducer = umap.UMAP(random_state=42)\n",
        "    umap_result = umap_reducer.fit_transform(matrix)\n",
        "    plt.figure(figsize=(10, 6))\n",
        "    scatter = plt.scatter(umap_result[:, 0], umap_result[:, 1], c=clusters, cmap='viridis')\n",
        "    plt.colorbar(scatter)\n",
        "    plt.title(title)\n",
        "    plt.xlabel('UMAP Feature 1')\n",
        "    plt.ylabel('UMAP Feature 2')\n",
        "    plt.show()\n"
      ],
      "metadata": {
        "id": "oRsUnH70QyHi"
      },
      "execution_count": 28,
      "outputs": []
    },
    {
      "cell_type": "code",
      "source": [],
      "metadata": {
        "id": "SRHWnr4cQ0Dp"
      },
      "execution_count": 28,
      "outputs": []
    },
    {
      "cell_type": "code",
      "execution_count": 28,
      "metadata": {
        "id": "YqQjUjPAUumK"
      },
      "outputs": [],
      "source": [
        "\n"
      ]
    },
    {
      "cell_type": "code",
      "execution_count": 28,
      "metadata": {
        "id": "yff6ERg0b01k"
      },
      "outputs": [],
      "source": [
        "\n"
      ]
    },
    {
      "cell_type": "code",
      "execution_count": 28,
      "metadata": {
        "id": "yCmic5nZXI9d"
      },
      "outputs": [],
      "source": []
    },
    {
      "cell_type": "code",
      "execution_count": 29,
      "metadata": {
        "id": "KFgdBQM-U0x0"
      },
      "outputs": [],
      "source": [
        "# Davies-Bouldin Index"
      ]
    },
    {
      "cell_type": "markdown",
      "metadata": {
        "id": "Ej180bnULQF3"
      },
      "source": [
        "SHOWING IN A WORD CLOUD - CLUSTERS"
      ]
    },
    {
      "cell_type": "code",
      "execution_count": 29,
      "metadata": {
        "id": "WUmX6uWZLPaP"
      },
      "outputs": [],
      "source": []
    },
    {
      "cell_type": "code",
      "execution_count": 29,
      "metadata": {
        "id": "PNmOjtIDu05P"
      },
      "outputs": [],
      "source": []
    },
    {
      "cell_type": "code",
      "execution_count": 30,
      "metadata": {
        "id": "yS5N9k8xLXa6"
      },
      "outputs": [],
      "source": [
        "from wordcloud import WordCloud\n",
        "import matplotlib.pyplot as plt\n",
        "from sklearn.feature_extraction.text import TfidfVectorizer\n",
        "\n",
        "def generate_wordclouds(df):\n",
        "    unique_clusters = np.unique(df['cluster_label'])\n",
        "    print(\"UNIQUE CLUSTERS: \", unique_clusters)\n",
        "    for cluster_num in unique_clusters:\n",
        "\n",
        "        cluster_data = df[df['cluster_label'] == cluster_num]\n",
        "\n",
        "        tfidf_vectorizer = TfidfVectorizer(stop_words='english')\n",
        "        tfidf_matrix = tfidf_vectorizer.fit_transform(cluster_data['cleaned_information'])\n",
        "        terms = tfidf_vectorizer.get_feature_names_out()\n",
        "        scores = tfidf_matrix.sum(axis=0).A1\n",
        "        freqs = dict(zip(terms, scores))\n",
        "        wordcloud = WordCloud(width=800, height=400, background_color='white').generate_from_frequencies(freqs)\n",
        "        plt.figure(figsize=(10, 5))\n",
        "        plt.imshow(wordcloud, interpolation='bilinear')\n",
        "        plt.axis(\"off\")\n",
        "        plt.title(f'Word Cloud for Cluster {cluster_num}')\n",
        "        plt.show()\n"
      ]
    },
    {
      "cell_type": "code",
      "execution_count": 31,
      "metadata": {
        "id": "6CO44BupiShP"
      },
      "outputs": [],
      "source": [
        "from sklearn.feature_extraction.text import TfidfVectorizer\n",
        "\n",
        "def generate_cluster_labels(df):\n",
        "    unique_clusters = np.unique(df['cluster_label'])\n",
        "    labels = []\n",
        "    print(\"CLUSTERS IN GENERATE CLUSTER FUNC \", unique_clusters)\n",
        "    for cluster_num in unique_clusters:\n",
        "\n",
        "        cluster_data = df[df['cluster_label'] == cluster_num]\n",
        "\n",
        "        tfidf_vectorizer = TfidfVectorizer(stop_words='english')\n",
        "        tfidf_matrix = tfidf_vectorizer.fit_transform(cluster_data['cleaned_information'])\n",
        "        terms = np.array(tfidf_vectorizer.get_feature_names_out())[tfidf_matrix.sum(axis=0).argsort()[0, ::-1]].flat[:5]\n",
        "        label = ', '.join(terms)\n",
        "        labels.append(label)\n",
        "        print(f\"Cluster {cluster_num} label: {label}\")\n",
        "    return labels\n"
      ]
    },
    {
      "cell_type": "code",
      "execution_count": 32,
      "metadata": {
        "id": "XY840vaXHZ-m"
      },
      "outputs": [],
      "source": [
        "import openai\n",
        "\n",
        "# Generate meaningful labels for each cluster using GPT-3.5 Turbo\n",
        "def create_gpt3_labels(labels):\n",
        "    cluster_labels = []\n",
        "    for label in labels:\n",
        "\n",
        "        #prompt = \"Please generate a concise label for the following cluster of terms.\"\n",
        "        prompt = f\"Generate a very specific and descriptive maximum 3-words-label for a cluster of topics involving: {label}. Aim for precision and relevance in a technical context. it is all about a webapplication where users like teachers or scholars can see timetable, do enrolments, add and confirm absences and many more.\"\n",
        "\n",
        "        response = openai.ChatCompletion.create(\n",
        "            model=\"gpt-3.5-turbo\",\n",
        "            messages=[\n",
        "                {\"role\": \"system\", \"content\": prompt},\n",
        "                {\"role\": \"user\", \"content\": label}\n",
        "            ]\n",
        "        )\n",
        "        new_label = response['choices'][0]['message']['content'].strip()\n",
        "        cluster_labels.append(new_label)\n",
        "    return cluster_labels\n"
      ]
    },
    {
      "cell_type": "code",
      "execution_count": 33,
      "metadata": {
        "id": "D1mbKxmWHxDA"
      },
      "outputs": [],
      "source": [
        "def generate_wordclouds(df, text_column, label_column):\n",
        "    \"\"\"\n",
        "    Generates and displays word clouds for each cluster.\n",
        "\n",
        "    :param df: DataFrame containing the cluster labels and text data.\n",
        "    :param text_column: Name of the column in df that contains the text data.\n",
        "    :param label_column: Name of the column in df that contains the cluster labels.\n",
        "    \"\"\"\n",
        "    unique_clusters = df[label_column].unique()\n",
        "    for cluster in unique_clusters:\n",
        "        cluster_text = \" \".join(df[df[label_column] == cluster][text_column].dropna())\n",
        "        wordcloud = WordCloud(width=800, height=400, background_color='white').generate(cluster_text)\n",
        "        plt.figure(figsize=(10, 5))\n",
        "        plt.imshow(wordcloud, interpolation='bilinear')\n",
        "        plt.axis(\"off\")\n",
        "        plt.title(f\"Word Cloud for Cluster {cluster}\")\n",
        "        plt.show()\n"
      ]
    },
    {
      "cell_type": "code",
      "execution_count": 33,
      "metadata": {
        "id": "wJdAcuyStmda"
      },
      "outputs": [],
      "source": []
    },
    {
      "cell_type": "markdown",
      "metadata": {
        "id": "3rfMxWQR8ehQ"
      },
      "source": [
        "## CATEGORIZING NEW TICKETS TO ONE OF THE CLUSTERS WITHOUT THE NEED OF DOING THE WHOLE CLUSTERSTUFF ETC AGAIN"
      ]
    },
    {
      "cell_type": "code",
      "execution_count": 34,
      "metadata": {
        "id": "a6mC3W6kLOJU"
      },
      "outputs": [],
      "source": [
        "def plot_umap(embeddings, cluster_labels, new_ticket_index):\n",
        "    reducer = umap.UMAP()\n",
        "    embedding_2d = reducer.fit_transform(embeddings)\n",
        "    plt.scatter(embedding_2d[:, 0], embedding_2d[:, 1], c=cluster_labels, cmap='Spectral', alpha=0.6)\n",
        "    plt.scatter(embedding_2d[new_ticket_index, 0], embedding_2d[new_ticket_index, 1], c='red', s=100, edgecolors='k')  # Highlight new ticket\n",
        "    plt.title(\"UMAP Projection of Ticket Embeddings\")\n",
        "    plt.colorbar()\n",
        "    plt.show()"
      ]
    },
    {
      "cell_type": "code",
      "execution_count": 35,
      "metadata": {
        "id": "n4w5-xAkrxxc"
      },
      "outputs": [],
      "source": [
        "def check_new_ticket(embeddings, reworked_ticket_text, df, update_path, threshold=0.5):\n",
        "    print(\"Starting check_new_ticket...\")\n",
        "\n",
        "    # get last embedding\n",
        "    new_embedding = embeddings[-1]\n",
        "    all_embeddings_exept_last = embeddings[:-1]\n",
        "\n",
        "    # Check if the DataFrame is empty or the existing_embeddings are insufficient\n",
        "    if df.empty or len(embeddings) <= 1:  # Ensure there's at least one existing ticket besides the new one\n",
        "        print(\"No existing tickets to compare or DataFrame is empty.\")\n",
        "        new_label = 0  # Starting with a new cluster if no valid data exists\n",
        "    else:\n",
        "        # Exclude the new embedding which is presumably the last one added\n",
        "        print(new_embedding)\n",
        "        # Calculate distances to all existing embeddings\n",
        "        distances = euclidean_distances([new_embedding], all_embeddings_exept_last)\n",
        "        min_distance = distances.min()\n",
        "\n",
        "        print(\"Distance: \", distances.min())\n",
        "        # Decide on the cluster label based on distance\n",
        "        if min_distance > threshold:\n",
        "          print(\"NEUES CLUSTER\")\n",
        "          new_label = df['cluster_label'].max() + 1 if not df.empty else 0\n",
        "          #new_label = 0\n",
        "          print(f\"Assigning new cluster label: {new_label}\")\n",
        "        else:\n",
        "            print(\"BESTEHENDES CLUSTER\")\n",
        "            closest_index = distances.argmin()\n",
        "            print(\"CLOSEST INDEX: \", closest_index)\n",
        "            if closest_index < len(df):\n",
        "                new_label = df.iloc[closest_index]['cluster_label']\n",
        "                #new_label = 0\n",
        "                print(f\"Assigning existing cluster label: {new_label}\")\n",
        "            else:\n",
        "                print(f\"Error: Closest index {closest_index} out of bounds for DataFrame of length {len(df)}\")\n",
        "                return df, None  # Return None if there's an index error\n",
        "\n",
        "    # Append the new ticket's data as a new row to the DataFrame\n",
        "\n",
        "    df.loc[len(df)-1, 'cluster_label'] =  new_label\n",
        "\n",
        "    new_ticket_index = df.index[-1]  # Get the index of the newly added ticket\n",
        "    return df, new_ticket_index"
      ]
    },
    {
      "cell_type": "code",
      "execution_count": 36,
      "metadata": {
        "id": "ER20SqhMr0aB"
      },
      "outputs": [],
      "source": [
        "def get_openai_embeddings_addon(texts, initial_path, update_path):\n",
        "    # Check and load initial embeddings or initialize an empty array\n",
        "\n",
        "    new_embeddings = []\n",
        "    for text in texts:\n",
        "        response = openai.Embedding.create(input=text, engine=\"text-embedding-3-large\")\n",
        "        new_embeddings.append(response['data'][0]['embedding'])\n",
        "\n",
        "    return new_embeddings"
      ]
    },
    {
      "cell_type": "markdown",
      "metadata": {
        "id": "hijF2duoztdt"
      },
      "source": [
        "## CREATE ANOTHER TICKET AND RECLUSTER IT"
      ]
    },
    {
      "cell_type": "code",
      "execution_count": 37,
      "metadata": {
        "id": "Gw40kkhx81WU",
        "collapsed": true,
        "colab": {
          "base_uri": "https://localhost:8080/",
          "height": 221
        },
        "outputId": "575172e1-1580-4955-e7da-ddabfd3d4e39"
      },
      "outputs": [
        {
          "output_type": "error",
          "ename": "NameError",
          "evalue": "name 'rework_ticket_description_with_gptturbo' is not defined",
          "traceback": [
            "\u001b[0;31m---------------------------------------------------------------------------\u001b[0m",
            "\u001b[0;31mNameError\u001b[0m                                 Traceback (most recent call last)",
            "\u001b[0;32m<ipython-input-37-c6aedc4337a7>\u001b[0m in \u001b[0;36m<cell line: 5>\u001b[0;34m()\u001b[0m\n\u001b[1;32m      3\u001b[0m \u001b[0mnew_ticket\u001b[0m \u001b[0;34m=\u001b[0m \u001b[0;34m\"eine gurke kommt plötzlich aus meinem handy anstelle einer banane.\"\u001b[0m\u001b[0;34m\u001b[0m\u001b[0;34m\u001b[0m\u001b[0m\n\u001b[1;32m      4\u001b[0m \u001b[0;34m\u001b[0m\u001b[0m\n\u001b[0;32m----> 5\u001b[0;31m \u001b[0mreworked_ticket_text\u001b[0m \u001b[0;34m=\u001b[0m \u001b[0mrework_ticket_description_with_gptturbo\u001b[0m\u001b[0;34m(\u001b[0m\u001b[0mnew_ticket\u001b[0m\u001b[0;34m)\u001b[0m\u001b[0;34m\u001b[0m\u001b[0;34m\u001b[0m\u001b[0m\n\u001b[0m\u001b[1;32m      6\u001b[0m \u001b[0mprint\u001b[0m\u001b[0;34m(\u001b[0m\u001b[0;34mf\"Length of existing_embeddings: {len(embeddings)}\"\u001b[0m\u001b[0;34m)\u001b[0m\u001b[0;34m\u001b[0m\u001b[0;34m\u001b[0m\u001b[0m\n\u001b[1;32m      7\u001b[0m \u001b[0mprint\u001b[0m\u001b[0;34m(\u001b[0m\u001b[0;34mf\"Number of rows in df: {len(df)}\"\u001b[0m\u001b[0;34m)\u001b[0m\u001b[0;34m\u001b[0m\u001b[0;34m\u001b[0m\u001b[0m\n",
            "\u001b[0;31mNameError\u001b[0m: name 'rework_ticket_description_with_gptturbo' is not defined"
          ]
        }
      ],
      "source": [
        "initial_path = EMBEDDINGS_MID\n",
        "update_path = EMBEDDINGS_MID_UPDATED\n",
        "new_ticket = \"eine gurke kommt plötzlich aus meinem handy anstelle einer banane.\"\n",
        "\n",
        "reworked_ticket_text = rework_ticket_description_with_gptturbo(new_ticket)\n",
        "print(f\"Length of existing_embeddings: {len(embeddings)}\")\n",
        "print(f\"Number of rows in df: {len(df)}\")\n",
        "df.loc[len(df), ['issue_title', 'reworked_information', 'cleaned_information']] = [\"MY TEST TITLE FOR NEW ISSUES\", reworked_ticket_text, reworked_ticket_text]\n",
        "\n",
        "\n",
        "new_embeddings = get_openai_embeddings_addon([reworked_ticket_text], initial_path, update_path)[-1]\n",
        "\n",
        "# Combine new embeddings with existing ones\n",
        "new_embeddings = np.array(new_embeddings)\n",
        "embeddings = np.vstack([embeddings, new_embeddings]) if embeddings.size else new_embeddings\n",
        "\n",
        "# Save updated embeddings\n",
        "np.save(update_path, embeddings)\n",
        "print(f\"Length of existing_embeddings: {len(embeddings)}\")\n",
        "print(f\"Number of rows in df: {len(df)}\")\n",
        "\n",
        "#embeddings = np.load(update_path)[:-2]\n",
        "#embeddings = np.load(update_path)[:-1]\n",
        "print(f\"Length of existing_embeddings: {len(embeddings)}\")\n"
      ]
    },
    {
      "cell_type": "code",
      "execution_count": null,
      "metadata": {
        "id": "hzVXwUoLaVEu"
      },
      "outputs": [],
      "source": []
    },
    {
      "cell_type": "code",
      "execution_count": null,
      "metadata": {
        "id": "-XDFzwwIGVtX"
      },
      "outputs": [],
      "source": [
        "print(f\"Length of existing_embeddings: {len(embeddings)}\")\n",
        "print(f\"Number of rows in df: {len(df)}\")"
      ]
    },
    {
      "cell_type": "code",
      "execution_count": null,
      "metadata": {
        "id": "YxjfkEc7P7SC"
      },
      "outputs": [],
      "source": [
        "df\n"
      ]
    },
    {
      "cell_type": "code",
      "execution_count": null,
      "metadata": {
        "id": "i3G07cGGZ_tE"
      },
      "outputs": [],
      "source": [
        "#df = df.drop(len(df)-1)\n",
        "#embeddings = np.load(update_path)[:-1]"
      ]
    },
    {
      "cell_type": "code",
      "execution_count": null,
      "metadata": {
        "id": "NwuHAyLkFF68"
      },
      "outputs": [],
      "source": [
        "#print(reworked_ticket_text)"
      ]
    },
    {
      "cell_type": "code",
      "execution_count": null,
      "metadata": {
        "id": "yGyVypXhFAzX"
      },
      "outputs": [],
      "source": [
        "\n",
        "# Call the check_new_ticket function\n",
        "df, new_ticket_index = check_new_ticket(embeddings, reworked_ticket_text, df, update_path)\n",
        "\n"
      ]
    },
    {
      "cell_type": "code",
      "execution_count": null,
      "metadata": {
        "id": "dgTIeqxeKoGY"
      },
      "outputs": [],
      "source": [
        "plot_umap(embeddings, df['cluster_label'], new_ticket_index)"
      ]
    },
    {
      "cell_type": "code",
      "execution_count": null,
      "metadata": {
        "id": "_xaY97q2NOWj"
      },
      "outputs": [],
      "source": []
    },
    {
      "cell_type": "code",
      "execution_count": null,
      "metadata": {
        "id": "Y9YSKhdbCAUw"
      },
      "outputs": [],
      "source": [
        " # Perform clustering\n",
        "\n",
        "#clusters, Z = perform_hierarchical_clustering(embeddings, MAX_DISTANCE)\n",
        "\n",
        "#df['cluster_label'] = clusters  # Assign cluster labels to DataFrame\n",
        "\n",
        "# Visualize using UMAP\n",
        "#visualize_umap(embeddings, clusters)\n",
        "\n",
        "# Generate word clouds for each cluster\n",
        "generate_wordclouds(df)\n",
        "\n",
        "\n",
        "# Generate labels using TF-IDF\n",
        "labels = generate_cluster_labels(df)\n",
        "\n",
        "\n",
        "# Create meaningful labels using GPT-3.5 Turbo\n",
        "cluster_labels_reworked = create_gpt3_labels(labels)\n",
        "\n",
        "\n",
        "# Create and display final cluster information\n",
        "cluster_data = pd.DataFrame({\n",
        "    'ClusterNumber': range(1, len(cluster_labels_reworked) + 1),\n",
        "    'ClusterLabel': cluster_labels_reworked,\n",
        "    'OriginalLabels': labels\n",
        "})\n",
        "\n",
        "print(cluster_data)\n",
        "\n"
      ]
    },
    {
      "cell_type": "code",
      "execution_count": null,
      "metadata": {
        "id": "-SrJoJMJebuP"
      },
      "outputs": [],
      "source": [
        "# Display all rows where 'cluster_label' equals 5\n",
        "filtered_df = df[df['cluster_label'] == 6]\n",
        "\n",
        "print(filtered_df)"
      ]
    },
    {
      "cell_type": "code",
      "execution_count": null,
      "metadata": {
        "id": "umLmBqL3ekDW"
      },
      "outputs": [],
      "source": [
        "import umap\n",
        "import matplotlib.pyplot as plt\n",
        "\n",
        "'''\n",
        "def plot_umap_updated(embeddings, cluster_labels):\n",
        "    # Initialize UMAP\n",
        "    print(\"LABELS: \", cluster_labels)\n",
        "    reducer = umap.UMAP(random_state=42)\n",
        "    # Transform the embeddings to 2D for visualization\n",
        "    embedding_2d = reducer.fit_transform(embeddings)\n",
        "\n",
        "    # Create a scatter plot\n",
        "    plt.figure(figsize=(10, 7))\n",
        "    scatter = plt.scatter(embedding_2d[:, 0], embedding_2d[:, 1], c=cluster_labels, cmap='Spectral', s=50, alpha=0.6)\n",
        "    plt.colorbar(scatter)\n",
        "    plt.title('UMAP Projection of Clusters')\n",
        "    plt.xlabel('UMAP Dimension 1')\n",
        "    plt.ylabel('UMAP Dimension 2')\n",
        "    plt.show()\n",
        "\n",
        "# Assuming 'embeddings' and 'cluster_labels' are defined\n",
        "plot_umap_updated(embeddings, df['cluster_label'])\n",
        "\n",
        "'''\n",
        "\n",
        "import matplotlib.pyplot as plt\n",
        "import numpy as np\n",
        "import pandas as pd\n",
        "import umap\n",
        "\n",
        "import matplotlib.pyplot as plt\n",
        "import numpy as np\n",
        "import pandas as pd\n",
        "import umap.umap_ as umap\n",
        "\n",
        "# Example DataFrame 'cluster_data' which you should already have\n",
        "# cluster_data = pd.DataFrame({\n",
        "#     'ClusterNumber': [1, 2, 3, 4, 5],\n",
        "#     'ClusterLabel': ['Tech Support', 'Product Feedback', 'Complaints', 'Inquiries', 'Other'],\n",
        "#     'OriginalLabels': ['support', 'feedback', 'complaint', 'inquiry', 'other']\n",
        "# })\n",
        "\n",
        "# Assuming cluster_data is predefined as above\n",
        "label_map = .set_index('ClusterNumber')['ClusterLabel'].to_dict()\n",
        "\n",
        "# Define a list of colors (or use a matplotlib colormap)\n",
        "colors = plt.cm.Spectral(np.linspace(0, 1, len(cluster_data)))\n",
        "color_map = dict(zip(cluster_data['ClusterNumber'], colors))\n",
        "\n",
        "def plot_umap_updated(embeddings, cluster_ids):\n",
        "    # Initialize UMAP\n",
        "    reducer = umap.UMAP(random_state=42)\n",
        "    embedding_2d = reducer.fit_transform(embeddings)\n",
        "\n",
        "    plt.figure(figsize=(10, 7))\n",
        "\n",
        "    # Iterate over each unique cluster id found in the dataset\n",
        "    for cluster_id in np.unique(cluster_ids):\n",
        "        # Find points that belong to the current cluster\n",
        "        idx = np.where(cluster_ids == cluster_id)\n",
        "        # Use label and color mappings, default to 'grey' if not found\n",
        "        cluster_label = label_map.get(cluster_id, 'Unknown')\n",
        "        cluster_color = color_map.get(cluster_id, 'grey')\n",
        "\n",
        "        # Plot each cluster using assigned colors and add label for the legend\n",
        "        plt.scatter(embedding_2d[idx, 0], embedding_2d[idx, 1], color=cluster_color, label=cluster_label, s=50, alpha=0.6)\n",
        "\n",
        "    plt.legend(title='Cluster Labels')\n",
        "    plt.title('UMAP Projection of Clusters with Custom Labels')\n",
        "    plt.xlabel('UMAP Dimension 1')\n",
        "    plt.ylabel('UMAP Dimension 2')\n",
        "    plt.show()\n",
        "\n",
        "# Assuming 'embeddings' and 'cluster_ids' are defined appropriately\n",
        "plot_umap_updated(embeddings, df['cluster_label'])\n"
      ]
    },
    {
      "cell_type": "code",
      "execution_count": 38,
      "metadata": {
        "id": "PywjdVuuxeia",
        "colab": {
          "base_uri": "https://localhost:8080/",
          "height": 184
        },
        "outputId": "d9ad7aa4-3c04-4c3f-de37-5f64360e448a"
      },
      "outputs": [
        {
          "output_type": "error",
          "ename": "NameError",
          "evalue": "name 'embeddings' is not defined",
          "traceback": [
            "\u001b[0;31m---------------------------------------------------------------------------\u001b[0m",
            "\u001b[0;31mNameError\u001b[0m                                 Traceback (most recent call last)",
            "\u001b[0;32m<ipython-input-38-198e065d165e>\u001b[0m in \u001b[0;36m<cell line: 26>\u001b[0;34m()\u001b[0m\n\u001b[1;32m     24\u001b[0m \u001b[0;34m\u001b[0m\u001b[0m\n\u001b[1;32m     25\u001b[0m \u001b[0;31m# Example usage\u001b[0m\u001b[0;34m\u001b[0m\u001b[0;34m\u001b[0m\u001b[0m\n\u001b[0;32m---> 26\u001b[0;31m \u001b[0mplot_umap_interactive\u001b[0m\u001b[0;34m(\u001b[0m\u001b[0membeddings\u001b[0m\u001b[0;34m,\u001b[0m \u001b[0mdf\u001b[0m\u001b[0;34m[\u001b[0m\u001b[0;34m'cluster_label'\u001b[0m\u001b[0;34m]\u001b[0m\u001b[0;34m,\u001b[0m \u001b[0mdf\u001b[0m\u001b[0;34m[\u001b[0m\u001b[0;34m'issue_title'\u001b[0m\u001b[0;34m]\u001b[0m\u001b[0;34m)\u001b[0m\u001b[0;34m\u001b[0m\u001b[0;34m\u001b[0m\u001b[0m\n\u001b[0m",
            "\u001b[0;31mNameError\u001b[0m: name 'embeddings' is not defined"
          ]
        }
      ],
      "source": [
        "import plotly.express as px\n",
        "import umap.umap_ as umap\n",
        "\n",
        "def plot_umap_interactive(embeddings, cluster_ids, titles):\n",
        "    # Initialize UMAP\n",
        "    reducer = umap.UMAP(random_state=42)\n",
        "    embedding_2d = reducer.fit_transform(embeddings)\n",
        "\n",
        "    # Create a DataFrame for the Plotly scatter plot\n",
        "    df_plot = pd.DataFrame({\n",
        "        'UMAP Dimension 1': embedding_2d[:, 0],\n",
        "        'UMAP Dimension 2': embedding_2d[:, 1],\n",
        "        'Cluster': [label_map[cid] for cid in cluster_ids],\n",
        "        'Title': titles\n",
        "    })\n",
        "\n",
        "    # Create a scatter plot\n",
        "    fig = px.scatter(df_plot, x='UMAP Dimension 1', y='UMAP Dimension 2',\n",
        "                     color='Cluster', labels={'color': 'Cluster Label'},\n",
        "                     hover_data=['Title'],\n",
        "                     title='UMAP Projection of Clusters')\n",
        "    fig.update_traces(marker=dict(size=12, line=dict(width=2, color='DarkSlateGrey')), selector=dict(mode='markers'))\n",
        "    fig.show()\n",
        "\n",
        "# Example usage\n",
        "plot_umap_interactive(embeddings, df['cluster_label'], df['issue_title'])\n"
      ]
    },
    {
      "cell_type": "code",
      "execution_count": 39,
      "metadata": {
        "id": "9dwMsxhOxiWq",
        "colab": {
          "base_uri": "https://localhost:8080/",
          "height": 147
        },
        "outputId": "0fa596d4-72fe-4a98-9301-3fad4000bd1a"
      },
      "outputs": [
        {
          "output_type": "error",
          "ename": "NameError",
          "evalue": "name 'df' is not defined",
          "traceback": [
            "\u001b[0;31m---------------------------------------------------------------------------\u001b[0m",
            "\u001b[0;31mNameError\u001b[0m                                 Traceback (most recent call last)",
            "\u001b[0;32m<ipython-input-39-00cf07b74dcd>\u001b[0m in \u001b[0;36m<cell line: 1>\u001b[0;34m()\u001b[0m\n\u001b[0;32m----> 1\u001b[0;31m \u001b[0mdf\u001b[0m\u001b[0;34m\u001b[0m\u001b[0;34m\u001b[0m\u001b[0m\n\u001b[0m",
            "\u001b[0;31mNameError\u001b[0m: name 'df' is not defined"
          ]
        }
      ],
      "source": [
        "df"
      ]
    },
    {
      "cell_type": "markdown",
      "metadata": {
        "id": "EewTY5c_dPWw"
      },
      "source": [
        "**3. Adaptability and accuracy of the system**\n",
        "Goal: Without manual intervention, the system should not only correctly categorize new tickets with\n",
        "new content, but also adapt the ticket categories accordingly.\n",
        "Deliverable: A real-time classification engine that adapts to new data in real time. This module is\n",
        "further developed through transfer learning."
      ]
    },
    {
      "cell_type": "code",
      "execution_count": 40,
      "metadata": {
        "id": "1LRMVaKNS82n",
        "colab": {
          "base_uri": "https://localhost:8080/",
          "height": 184
        },
        "outputId": "1e9dccb1-435d-49af-a54c-142ca2ccb112"
      },
      "outputs": [
        {
          "output_type": "error",
          "ename": "NameError",
          "evalue": "name 'embeddings' is not defined",
          "traceback": [
            "\u001b[0;31m---------------------------------------------------------------------------\u001b[0m",
            "\u001b[0;31mNameError\u001b[0m                                 Traceback (most recent call last)",
            "\u001b[0;32m<ipython-input-40-4b4e81ab8b60>\u001b[0m in \u001b[0;36m<cell line: 18>\u001b[0;34m()\u001b[0m\n\u001b[1;32m     16\u001b[0m     \u001b[0mplt\u001b[0m\u001b[0;34m.\u001b[0m\u001b[0mshow\u001b[0m\u001b[0;34m(\u001b[0m\u001b[0;34m)\u001b[0m\u001b[0;34m\u001b[0m\u001b[0;34m\u001b[0m\u001b[0m\n\u001b[1;32m     17\u001b[0m \u001b[0;34m\u001b[0m\u001b[0m\n\u001b[0;32m---> 18\u001b[0;31m \u001b[0mplot_tsne\u001b[0m\u001b[0;34m(\u001b[0m\u001b[0membeddings\u001b[0m\u001b[0;34m,\u001b[0m \u001b[0mdf\u001b[0m\u001b[0;34m[\u001b[0m\u001b[0;34m'cluster_label'\u001b[0m\u001b[0;34m]\u001b[0m\u001b[0;34m)\u001b[0m\u001b[0;34m\u001b[0m\u001b[0;34m\u001b[0m\u001b[0m\n\u001b[0m",
            "\u001b[0;31mNameError\u001b[0m: name 'embeddings' is not defined"
          ]
        }
      ],
      "source": [
        "from sklearn.manifold import TSNE\n",
        "\n",
        "def plot_tsne(embeddings, cluster_labels):\n",
        "    # Initialize t-SNE\n",
        "    tsne = TSNE(n_components=2, random_state=42)\n",
        "    # Transform the embeddings to 2D\n",
        "    embedding_2d = tsne.fit_transform(embeddings)\n",
        "\n",
        "    # Plotting\n",
        "    plt.figure(figsize=(10, 7))\n",
        "    scatter = plt.scatter(embedding_2d[:, 0], embedding_2d[:, 1], c=cluster_labels, cmap='Spectral', s=50, alpha=0.6)\n",
        "    plt.colorbar(scatter)\n",
        "    plt.title('t-SNE Projection of Clusters')\n",
        "    plt.xlabel('t-SNE Dimension 1')\n",
        "    plt.ylabel('t-SNE Dimension 2')\n",
        "    plt.show()\n",
        "\n",
        "plot_tsne(embeddings, df['cluster_label'])\n"
      ]
    },
    {
      "cell_type": "markdown",
      "source": [
        "# PLAYGROUND"
      ],
      "metadata": {
        "id": "_6habOqNQNYr"
      }
    },
    {
      "cell_type": "code",
      "source": [
        "'''\n",
        "def perform_kmeans_clustering(data, n_clusters=3):\n",
        "    kmeans = KMeans(n_clusters=n_clusters, init='k-means++', random_state=42)\n",
        "    clusters = kmeans.fit_predict(data)\n",
        "    return clusters\n",
        "\n",
        "def perform_hierarchical_clustering(data, max_distance=2):\n",
        "    Z = linkage(data, method='ward')\n",
        "    clusters = fcluster(Z, max_distance, criterion='distance')\n",
        "    return clusters\n",
        "\n",
        "def perform_spectral_clustering(data, n_clusters=3):\n",
        "    spectral = SpectralClustering(n_clusters=n_clusters, affinity='nearest_neighbors', assign_labels='kmeans', random_state=42)\n",
        "    clusters = spectral.fit_predict(data)\n",
        "    return clusters\n",
        "'''"
      ],
      "metadata": {
        "id": "CLAC7FkvQPdF",
        "colab": {
          "base_uri": "https://localhost:8080/",
          "height": 90
        },
        "outputId": "210edbde-bcac-496e-f71c-900bfeb0df32"
      },
      "execution_count": 41,
      "outputs": [
        {
          "output_type": "execute_result",
          "data": {
            "text/plain": [
              "\"\\ndef perform_kmeans_clustering(data, n_clusters=3):\\n    kmeans = KMeans(n_clusters=n_clusters, init='k-means++', random_state=42)\\n    clusters = kmeans.fit_predict(data)\\n    return clusters\\n\\ndef perform_hierarchical_clustering(data, max_distance=2):\\n    Z = linkage(data, method='ward')\\n    clusters = fcluster(Z, max_distance, criterion='distance')\\n    return clusters\\n\\ndef perform_spectral_clustering(data, n_clusters=3):\\n    spectral = SpectralClustering(n_clusters=n_clusters, affinity='nearest_neighbors', assign_labels='kmeans', random_state=42)\\n    clusters = spectral.fit_predict(data)\\n    return clusters\\n\""
            ],
            "application/vnd.google.colaboratory.intrinsic+json": {
              "type": "string"
            }
          },
          "metadata": {},
          "execution_count": 41
        }
      ]
    },
    {
      "cell_type": "code",
      "source": [
        "def compute_clustering_metrics(matrix, labels):\n",
        "    # Check if there is more than one unique cluster and less than the length of the dataset\n",
        "    if len(set(labels)) > 1 and len(set(labels)) < len(matrix):\n",
        "        silhouette = silhouette_score(matrix, labels)\n",
        "        davies = davies_bouldin_score(matrix, labels)\n",
        "    else:\n",
        "        silhouette, davies = -1, -1  # Use -1 to indicate an invalid clustering evaluation\n",
        "    return silhouette, davies\n"
      ],
      "metadata": {
        "id": "cbEurNGifxkS"
      },
      "execution_count": 42,
      "outputs": []
    },
    {
      "cell_type": "code",
      "source": [
        "def main_clustering_and_evaluation(matrix, num_clusters):\n",
        "    dbscan_clusters = perform_dbscan_clustering(matrix)\n",
        "    hierarchical_clusters = perform_hierarchical_clustering(matrix, num_clusters)\n",
        "    kmeans_clusters = perform_kmeans_clustering(matrix, num_clusters)\n",
        "    spectral_clusters = perform_spectral_clustering(matrix, num_clusters)\n",
        "\n",
        "    #evaluate_clusters(matrix, dbscan_clusters, hierarchical_clusters, kmeans_clusters, spectral_clusters)\n",
        "\n",
        "    evaluate_clusters(matrix,\n",
        "                  dbscan=dbscan_clusters,\n",
        "                  hierarchical=hierarchical_clusters,\n",
        "                  kmeans=kmeans_clusters,\n",
        "                  spectral=spectral_clusters)\n"
      ],
      "metadata": {
        "id": "pdYSrHvLoZ1o"
      },
      "execution_count": 129,
      "outputs": []
    },
    {
      "cell_type": "code",
      "execution_count": 44,
      "metadata": {
        "id": "WJX9_BHRTPzM"
      },
      "outputs": [],
      "source": [
        "# Define configurations\n",
        "data_config = {\n",
        "    'small': DF_SMALL,\n",
        "    'mid': DF_MID,\n",
        "    'large': DF_LARGE,\n",
        "}\n",
        "\n",
        "embedding_config = {\n",
        "    'small_initial': EMBEDDINGS_SMALL,\n",
        "    'mid_initial': EMBEDDINGS_MID,\n",
        "    # Add more configurations here\n",
        "}\n",
        "\n",
        "clustering_config = {\n",
        "  'dbscan': perform_dbscan_clustering,\n",
        "    'kmeans': perform_kmeans_clustering,\n",
        "    'ward': perform_hierarchical_clustering,\n",
        "    'spectral': perform_spectral_clustering,\n",
        "    # Add more clustering methods here\n",
        "}\n"
      ]
    },
    {
      "cell_type": "code",
      "source": [
        "# Define your functions here\n",
        "def load_data(config_key):\n",
        "    return load_datas(config_key)"
      ],
      "metadata": {
        "id": "_X5CAV67_YiU"
      },
      "execution_count": 45,
      "outputs": []
    },
    {
      "cell_type": "code",
      "source": [],
      "metadata": {
        "id": "FOf-5YfO_4Vv"
      },
      "execution_count": 45,
      "outputs": []
    },
    {
      "cell_type": "code",
      "source": [
        "def preprocess_data(df):\n",
        "    df = drop_columns(df, ['journal_id', 'journal_created_on', 'journal_author', 'journal_notes', 'issue_id'])\n",
        "    df = replace_special_signs(df, 'issue_description')\n",
        "    df = combine_columns(df, ['issue_title', 'issue_description'], 'combined_text')\n",
        "    return df\n"
      ],
      "metadata": {
        "id": "hdZ599TB_dYN"
      },
      "execution_count": 46,
      "outputs": []
    },
    {
      "cell_type": "code",
      "source": [
        "def rework_datas(df, file_path_sum):\n",
        "  detailed_instructions = (\"You are a highly capable technical supporter. For each issue, provide a summary \"\n",
        "                          \"categorized under the following headers:\\n\"\n",
        "                          \"- Issue: [Specify the type of issue e.g., Support, IT-Systems, Development]\\n\"\n",
        "                          \"- Affected Systems: [List affected systems e.g., VDI, Email Servers, etc.]\\n\"\n",
        "                          \"- Reported Problem: [Describe the reported problem e.g., no connection, slow performance, etc.]\")\n",
        "\n",
        "  print(\"FILE PATH: \", file_path_sum)\n",
        "  print(df)\n",
        "\n",
        "  df = rework_ticket_information(file_path_sum, df, detailed_instructions)\n",
        "  return df"
      ],
      "metadata": {
        "id": "g0AzruyE_de0"
      },
      "execution_count": 47,
      "outputs": []
    },
    {
      "cell_type": "code",
      "source": [
        "def get_embeddings(EMBEDDING):\n",
        "  texts = df['reworked_information'].tolist()\n",
        "  embeddings = get_embeddings_impl(texts, EMBEDDING)\n",
        "  return embeddings"
      ],
      "metadata": {
        "id": "lqQc5BfK_dzt"
      },
      "execution_count": 99,
      "outputs": []
    },
    {
      "cell_type": "code",
      "source": [
        "def determine_cluster_count(embeddings):\n",
        "  num_clusters = determine_optimal_clusters_elbow(embeddings)\n",
        "  print(\"NUM\", num_clusters)\n",
        "  return num_clusters"
      ],
      "metadata": {
        "id": "PT-qsyyqXLZX"
      },
      "execution_count": 116,
      "outputs": []
    },
    {
      "cell_type": "code",
      "source": [
        "def get_cluster_data(matrix, num_clusters):\n",
        "\n",
        "    # Get cluster labels from each algorithm\n",
        "    dbscan_clusters = perform_dbscan_clustering(matrix)\n",
        "    hierarchical_clusters = perform_hierarchical_clustering(matrix, num_clusters)\n",
        "    kmeans_clusters = perform_kmeans_clustering(matrix, num_clusters)\n",
        "    spectral_clusters = perform_spectral_clustering(matrix, num_clusters)\n",
        "\n",
        "    return dbscan_clusters, hierarchical_clusters, kmeans_clusters, spectral_clusters\n"
      ],
      "metadata": {
        "id": "0nbP3euG_d4b"
      },
      "execution_count": 123,
      "outputs": []
    },
    {
      "cell_type": "code",
      "source": [
        "def visualize_clusters(embeddings, dbscan_clusters, hierarchical_clusters, kmeans_clusters, spectral_clusters):\n",
        "    plot_clusters_with_umap(embeddings, kmeans_clusters, 'K-Means Clustering with UMAP')\n",
        "    plot_clusters_with_umap(embeddings, dbscan_clusters, 'DBSCAN Clustering with UMAP')  # Assuming 'clusters' from DBSCAN\n",
        "    plot_clusters_with_umap(embeddings, hierarchical_clusters, 'Hierarchical Clustering with UMAP')  # Assuming 'cluster_labels' from Ward\n",
        "    plot_clusters_with_umap(embeddings, spectral_clusters, 'Spectral Clustering with UMAP')"
      ],
      "metadata": {
        "id": "SSz-RZ5jbT6y"
      },
      "execution_count": 138,
      "outputs": []
    },
    {
      "cell_type": "code",
      "source": [
        "def evaluate_clusters(matrix, **cluster_labels):\n",
        "    for name, labels in cluster_labels.items():\n",
        "        silhouette, davies = compute_clustering_metrics(matrix, labels)\n",
        "        print(f\"{name} Silhouette: {silhouette}, {name} Davies-Bouldin: {davies}\")\n"
      ],
      "metadata": {
        "id": "QU8pPBLd_viH"
      },
      "execution_count": 51,
      "outputs": []
    },
    {
      "cell_type": "code",
      "source": [],
      "metadata": {
        "id": "XBHAFCeIyIMX"
      },
      "execution_count": 51,
      "outputs": []
    },
    {
      "cell_type": "code",
      "source": [
        "def create_wordclouds_and_labels():\n",
        "  # Generate word clouds\n",
        "  generate_wordclouds(df, text_column=\"Text\", label_column=\"ClusterLabel\")\n",
        "\n",
        "  # Generate initial labels using TF-IDF or similar\n",
        "  initial_labels = generate_cluster_labels(df)\n",
        "\n",
        "  # Create meaningful labels using GPT-3.5 Turbo\n",
        "  cluster_labels_reworked = create_gpt3_labels(initial_labels)\n",
        "\n",
        "  # Create and display final cluster information\n",
        "  cluster_data = pd.DataFrame({\n",
        "      'ClusterNumber': range(1, len(cluster_labels_reworked) + 1),\n",
        "      'ClusterLabel': cluster_labels_reworked,\n",
        "      'OriginalLabels': initial_labels\n",
        "  })\n",
        "\n",
        "  print(cluster_data)\n"
      ],
      "metadata": {
        "id": "nt25RAYkyIO-"
      },
      "execution_count": 52,
      "outputs": []
    },
    {
      "cell_type": "code",
      "source": [
        "\n"
      ],
      "metadata": {
        "id": "nzyKe3KU_vn3"
      },
      "execution_count": 52,
      "outputs": []
    },
    {
      "cell_type": "markdown",
      "source": [
        "#TESTING"
      ],
      "metadata": {
        "id": "TeiqbO79gva0"
      }
    },
    {
      "cell_type": "code",
      "source": [
        "#TESTING\n",
        "# Create widgets for interactivity\n",
        "\n",
        "df = load_data(DF_SMALL)\n",
        "file_path = DF_SMALL\n",
        "file_path_sum = DF_SMALL_SUM\n"
      ],
      "metadata": {
        "id": "JniCOD9yA724",
        "colab": {
          "base_uri": "https://localhost:8080/"
        },
        "outputId": "fc6f3436-2b70-4bbc-ef81-d6e8a9cb704d"
      },
      "execution_count": 53,
      "outputs": [
        {
          "output_type": "stream",
          "name": "stdout",
          "text": [
            "./drive/Othercomputers/X1/code/datas_small.json\n"
          ]
        }
      ]
    },
    {
      "cell_type": "code",
      "source": [
        "df = preprocess_data(df)\n",
        "df\n"
      ],
      "metadata": {
        "id": "5hHpxcwXBgTV",
        "colab": {
          "base_uri": "https://localhost:8080/",
          "height": 175
        },
        "outputId": "f48a0a7b-62f6-458f-bfc3-9153e7fa6405"
      },
      "execution_count": 54,
      "outputs": [
        {
          "output_type": "execute_result",
          "data": {
            "text/plain": [
              "                                         issue_title  \\\n",
              "0  [MBA#1127156] Layout-Anpassung auf Typo 3 - We...   \n",
              "1  [MBA#1128940] Zimbra Störung komplette Schule:...   \n",
              "2  Fwd: [MBA#1128639] AW: Druckereinstellungen Se...   \n",
              "3                        KEN: mobile App aufschalten   \n",
              "\n",
              "                                   issue_description  \\\n",
              "0  Guten Morgen    Ich habe eine eher spezielle A...   \n",
              "1  Guten Morgen allerseits    Schule KSLZH  Melde...   \n",
              "2  Hallo    Seit der Umstellung auf Leunet hat di...   \n",
              "3               Einfach mal alle Module freischalten   \n",
              "\n",
              "                                       combined_text  \n",
              "0  [MBA#1127156] Layout-Anpassung auf Typo 3 - We...  \n",
              "1  [MBA#1128940] Zimbra Störung komplette Schule:...  \n",
              "2  Fwd: [MBA#1128639] AW: Druckereinstellungen Se...  \n",
              "3  KEN: mobile App aufschalten Einfach mal alle M...  "
            ],
            "text/html": [
              "\n",
              "  <div id=\"df-dbbf5289-acf5-43d8-ad17-f63d38192ae4\" class=\"colab-df-container\">\n",
              "    <div>\n",
              "<style scoped>\n",
              "    .dataframe tbody tr th:only-of-type {\n",
              "        vertical-align: middle;\n",
              "    }\n",
              "\n",
              "    .dataframe tbody tr th {\n",
              "        vertical-align: top;\n",
              "    }\n",
              "\n",
              "    .dataframe thead th {\n",
              "        text-align: right;\n",
              "    }\n",
              "</style>\n",
              "<table border=\"1\" class=\"dataframe\">\n",
              "  <thead>\n",
              "    <tr style=\"text-align: right;\">\n",
              "      <th></th>\n",
              "      <th>issue_title</th>\n",
              "      <th>issue_description</th>\n",
              "      <th>combined_text</th>\n",
              "    </tr>\n",
              "  </thead>\n",
              "  <tbody>\n",
              "    <tr>\n",
              "      <th>0</th>\n",
              "      <td>[MBA#1127156] Layout-Anpassung auf Typo 3 - We...</td>\n",
              "      <td>Guten Morgen    Ich habe eine eher spezielle A...</td>\n",
              "      <td>[MBA#1127156] Layout-Anpassung auf Typo 3 - We...</td>\n",
              "    </tr>\n",
              "    <tr>\n",
              "      <th>1</th>\n",
              "      <td>[MBA#1128940] Zimbra Störung komplette Schule:...</td>\n",
              "      <td>Guten Morgen allerseits    Schule KSLZH  Melde...</td>\n",
              "      <td>[MBA#1128940] Zimbra Störung komplette Schule:...</td>\n",
              "    </tr>\n",
              "    <tr>\n",
              "      <th>2</th>\n",
              "      <td>Fwd: [MBA#1128639] AW: Druckereinstellungen Se...</td>\n",
              "      <td>Hallo    Seit der Umstellung auf Leunet hat di...</td>\n",
              "      <td>Fwd: [MBA#1128639] AW: Druckereinstellungen Se...</td>\n",
              "    </tr>\n",
              "    <tr>\n",
              "      <th>3</th>\n",
              "      <td>KEN: mobile App aufschalten</td>\n",
              "      <td>Einfach mal alle Module freischalten</td>\n",
              "      <td>KEN: mobile App aufschalten Einfach mal alle M...</td>\n",
              "    </tr>\n",
              "  </tbody>\n",
              "</table>\n",
              "</div>\n",
              "    <div class=\"colab-df-buttons\">\n",
              "\n",
              "  <div class=\"colab-df-container\">\n",
              "    <button class=\"colab-df-convert\" onclick=\"convertToInteractive('df-dbbf5289-acf5-43d8-ad17-f63d38192ae4')\"\n",
              "            title=\"Convert this dataframe to an interactive table.\"\n",
              "            style=\"display:none;\">\n",
              "\n",
              "  <svg xmlns=\"http://www.w3.org/2000/svg\" height=\"24px\" viewBox=\"0 -960 960 960\">\n",
              "    <path d=\"M120-120v-720h720v720H120Zm60-500h600v-160H180v160Zm220 220h160v-160H400v160Zm0 220h160v-160H400v160ZM180-400h160v-160H180v160Zm440 0h160v-160H620v160ZM180-180h160v-160H180v160Zm440 0h160v-160H620v160Z\"/>\n",
              "  </svg>\n",
              "    </button>\n",
              "\n",
              "  <style>\n",
              "    .colab-df-container {\n",
              "      display:flex;\n",
              "      gap: 12px;\n",
              "    }\n",
              "\n",
              "    .colab-df-convert {\n",
              "      background-color: #E8F0FE;\n",
              "      border: none;\n",
              "      border-radius: 50%;\n",
              "      cursor: pointer;\n",
              "      display: none;\n",
              "      fill: #1967D2;\n",
              "      height: 32px;\n",
              "      padding: 0 0 0 0;\n",
              "      width: 32px;\n",
              "    }\n",
              "\n",
              "    .colab-df-convert:hover {\n",
              "      background-color: #E2EBFA;\n",
              "      box-shadow: 0px 1px 2px rgba(60, 64, 67, 0.3), 0px 1px 3px 1px rgba(60, 64, 67, 0.15);\n",
              "      fill: #174EA6;\n",
              "    }\n",
              "\n",
              "    .colab-df-buttons div {\n",
              "      margin-bottom: 4px;\n",
              "    }\n",
              "\n",
              "    [theme=dark] .colab-df-convert {\n",
              "      background-color: #3B4455;\n",
              "      fill: #D2E3FC;\n",
              "    }\n",
              "\n",
              "    [theme=dark] .colab-df-convert:hover {\n",
              "      background-color: #434B5C;\n",
              "      box-shadow: 0px 1px 3px 1px rgba(0, 0, 0, 0.15);\n",
              "      filter: drop-shadow(0px 1px 2px rgba(0, 0, 0, 0.3));\n",
              "      fill: #FFFFFF;\n",
              "    }\n",
              "  </style>\n",
              "\n",
              "    <script>\n",
              "      const buttonEl =\n",
              "        document.querySelector('#df-dbbf5289-acf5-43d8-ad17-f63d38192ae4 button.colab-df-convert');\n",
              "      buttonEl.style.display =\n",
              "        google.colab.kernel.accessAllowed ? 'block' : 'none';\n",
              "\n",
              "      async function convertToInteractive(key) {\n",
              "        const element = document.querySelector('#df-dbbf5289-acf5-43d8-ad17-f63d38192ae4');\n",
              "        const dataTable =\n",
              "          await google.colab.kernel.invokeFunction('convertToInteractive',\n",
              "                                                    [key], {});\n",
              "        if (!dataTable) return;\n",
              "\n",
              "        const docLinkHtml = 'Like what you see? Visit the ' +\n",
              "          '<a target=\"_blank\" href=https://colab.research.google.com/notebooks/data_table.ipynb>data table notebook</a>'\n",
              "          + ' to learn more about interactive tables.';\n",
              "        element.innerHTML = '';\n",
              "        dataTable['output_type'] = 'display_data';\n",
              "        await google.colab.output.renderOutput(dataTable, element);\n",
              "        const docLink = document.createElement('div');\n",
              "        docLink.innerHTML = docLinkHtml;\n",
              "        element.appendChild(docLink);\n",
              "      }\n",
              "    </script>\n",
              "  </div>\n",
              "\n",
              "\n",
              "<div id=\"df-d3834247-c371-4fda-910d-c3ffe16206c3\">\n",
              "  <button class=\"colab-df-quickchart\" onclick=\"quickchart('df-d3834247-c371-4fda-910d-c3ffe16206c3')\"\n",
              "            title=\"Suggest charts\"\n",
              "            style=\"display:none;\">\n",
              "\n",
              "<svg xmlns=\"http://www.w3.org/2000/svg\" height=\"24px\"viewBox=\"0 0 24 24\"\n",
              "     width=\"24px\">\n",
              "    <g>\n",
              "        <path d=\"M19 3H5c-1.1 0-2 .9-2 2v14c0 1.1.9 2 2 2h14c1.1 0 2-.9 2-2V5c0-1.1-.9-2-2-2zM9 17H7v-7h2v7zm4 0h-2V7h2v10zm4 0h-2v-4h2v4z\"/>\n",
              "    </g>\n",
              "</svg>\n",
              "  </button>\n",
              "\n",
              "<style>\n",
              "  .colab-df-quickchart {\n",
              "      --bg-color: #E8F0FE;\n",
              "      --fill-color: #1967D2;\n",
              "      --hover-bg-color: #E2EBFA;\n",
              "      --hover-fill-color: #174EA6;\n",
              "      --disabled-fill-color: #AAA;\n",
              "      --disabled-bg-color: #DDD;\n",
              "  }\n",
              "\n",
              "  [theme=dark] .colab-df-quickchart {\n",
              "      --bg-color: #3B4455;\n",
              "      --fill-color: #D2E3FC;\n",
              "      --hover-bg-color: #434B5C;\n",
              "      --hover-fill-color: #FFFFFF;\n",
              "      --disabled-bg-color: #3B4455;\n",
              "      --disabled-fill-color: #666;\n",
              "  }\n",
              "\n",
              "  .colab-df-quickchart {\n",
              "    background-color: var(--bg-color);\n",
              "    border: none;\n",
              "    border-radius: 50%;\n",
              "    cursor: pointer;\n",
              "    display: none;\n",
              "    fill: var(--fill-color);\n",
              "    height: 32px;\n",
              "    padding: 0;\n",
              "    width: 32px;\n",
              "  }\n",
              "\n",
              "  .colab-df-quickchart:hover {\n",
              "    background-color: var(--hover-bg-color);\n",
              "    box-shadow: 0 1px 2px rgba(60, 64, 67, 0.3), 0 1px 3px 1px rgba(60, 64, 67, 0.15);\n",
              "    fill: var(--button-hover-fill-color);\n",
              "  }\n",
              "\n",
              "  .colab-df-quickchart-complete:disabled,\n",
              "  .colab-df-quickchart-complete:disabled:hover {\n",
              "    background-color: var(--disabled-bg-color);\n",
              "    fill: var(--disabled-fill-color);\n",
              "    box-shadow: none;\n",
              "  }\n",
              "\n",
              "  .colab-df-spinner {\n",
              "    border: 2px solid var(--fill-color);\n",
              "    border-color: transparent;\n",
              "    border-bottom-color: var(--fill-color);\n",
              "    animation:\n",
              "      spin 1s steps(1) infinite;\n",
              "  }\n",
              "\n",
              "  @keyframes spin {\n",
              "    0% {\n",
              "      border-color: transparent;\n",
              "      border-bottom-color: var(--fill-color);\n",
              "      border-left-color: var(--fill-color);\n",
              "    }\n",
              "    20% {\n",
              "      border-color: transparent;\n",
              "      border-left-color: var(--fill-color);\n",
              "      border-top-color: var(--fill-color);\n",
              "    }\n",
              "    30% {\n",
              "      border-color: transparent;\n",
              "      border-left-color: var(--fill-color);\n",
              "      border-top-color: var(--fill-color);\n",
              "      border-right-color: var(--fill-color);\n",
              "    }\n",
              "    40% {\n",
              "      border-color: transparent;\n",
              "      border-right-color: var(--fill-color);\n",
              "      border-top-color: var(--fill-color);\n",
              "    }\n",
              "    60% {\n",
              "      border-color: transparent;\n",
              "      border-right-color: var(--fill-color);\n",
              "    }\n",
              "    80% {\n",
              "      border-color: transparent;\n",
              "      border-right-color: var(--fill-color);\n",
              "      border-bottom-color: var(--fill-color);\n",
              "    }\n",
              "    90% {\n",
              "      border-color: transparent;\n",
              "      border-bottom-color: var(--fill-color);\n",
              "    }\n",
              "  }\n",
              "</style>\n",
              "\n",
              "  <script>\n",
              "    async function quickchart(key) {\n",
              "      const quickchartButtonEl =\n",
              "        document.querySelector('#' + key + ' button');\n",
              "      quickchartButtonEl.disabled = true;  // To prevent multiple clicks.\n",
              "      quickchartButtonEl.classList.add('colab-df-spinner');\n",
              "      try {\n",
              "        const charts = await google.colab.kernel.invokeFunction(\n",
              "            'suggestCharts', [key], {});\n",
              "      } catch (error) {\n",
              "        console.error('Error during call to suggestCharts:', error);\n",
              "      }\n",
              "      quickchartButtonEl.classList.remove('colab-df-spinner');\n",
              "      quickchartButtonEl.classList.add('colab-df-quickchart-complete');\n",
              "    }\n",
              "    (() => {\n",
              "      let quickchartButtonEl =\n",
              "        document.querySelector('#df-d3834247-c371-4fda-910d-c3ffe16206c3 button');\n",
              "      quickchartButtonEl.style.display =\n",
              "        google.colab.kernel.accessAllowed ? 'block' : 'none';\n",
              "    })();\n",
              "  </script>\n",
              "</div>\n",
              "    </div>\n",
              "  </div>\n"
            ],
            "application/vnd.google.colaboratory.intrinsic+json": {
              "type": "dataframe",
              "variable_name": "df",
              "summary": "{\n  \"name\": \"df\",\n  \"rows\": 4,\n  \"fields\": [\n    {\n      \"column\": \"issue_title\",\n      \"properties\": {\n        \"dtype\": \"string\",\n        \"num_unique_values\": 4,\n        \"samples\": [\n          \"[MBA#1128940] Zimbra St\\u00f6rung komplette Schule: E-Mails senden und empfangen (kslzh.ch) funktioniert nicht\",\n          \"KEN: mobile App aufschalten\",\n          \"[MBA#1127156] Layout-Anpassung auf Typo 3 - Webseite (KWI)\"\n        ],\n        \"semantic_type\": \"\",\n        \"description\": \"\"\n      }\n    },\n    {\n      \"column\": \"issue_description\",\n      \"properties\": {\n        \"dtype\": \"string\",\n        \"num_unique_values\": 4,\n        \"samples\": [\n          \"Guten Morgen allerseits    Schule KSLZH  Melder Laszlo Cseri    Problem Zimbra    Wir kslzh.ch k\\u00f6nnen keine EMails senden auch Mails von GMX und icloud.com versendet und empfangen. Im Webmail erhalten wir folgende Hinweise beim versenden von EMails    !clipboard202403250751h8l4i.png!    !clipboard202403250751h6e8a.png!    Eine berpr\\u00fcfung mit MXToolbox zeigt bei einem SMTPCheck folgendes an     !clipboard2024032507512pdnb.png!    D\\u00fcrfen wir euch bitten, das Problem sofort zu beheben?    Nachtrag Bei meinen Recherchen habe ich festgestellt, dass es auch die stud.kslzh.chDomain auch betrifft    !clipboard202403250752fxdsc.png!  \",\n          \"Einfach mal alle Module freischalten\",\n          \"Guten Morgen    Ich habe eine eher spezielle Anfrage von der Kantonsschule Wiedikon.    Die Kantonsschule Wiedikon w\\u00fcnscht eine Layout Anpassung f\\u00fcr mobile Ger\\u00e4te zu machen f\\u00fcr das Video welches auf der Webseite der KWI Baustand der Hohlstrasse hochgeladen wurde. Die Kontaktperson bei fr\\u00fcheren Anpassungen bei euch war Noemi Schmid. Die Schule w\\u00fcnscht nun eine Kontaktaufnahme von euch  mit Herrn Philippe da Silva Wong, Tel. 044 457 71 53 um die Einzelheiten zu besprechen.  W\\u00e4re eine Kontaktaufnahme seitens von euch m\\u00f6glich?    Dieses Ticket eilt ein wenig da es schon l\\u00e4nger auf eine Antwort wartet. Ich habe das Ticket am 27.02.2024 an euch weitergeleitet ohne R\\u00fcckmeldung bis jetzt.     Freundliche Gr\\u00fcsse  Kushtrim Veliji    Bildungsdirektion Kanton Z\\u00fcrich  Mittelschul und Berufsbildungsamt  Digital Service Center Sek II  Ausstellungsstrasse 80  8090 Z\\u00fcrich  Telefon 043 259 77 27\"\n        ],\n        \"semantic_type\": \"\",\n        \"description\": \"\"\n      }\n    },\n    {\n      \"column\": \"combined_text\",\n      \"properties\": {\n        \"dtype\": \"string\",\n        \"num_unique_values\": 4,\n        \"samples\": [\n          \"[MBA#1128940] Zimbra St\\u00f6rung komplette Schule: E-Mails senden und empfangen (kslzh.ch) funktioniert nicht Guten Morgen allerseits    Schule KSLZH  Melder Laszlo Cseri    Problem Zimbra    Wir kslzh.ch k\\u00f6nnen keine EMails senden auch Mails von GMX und icloud.com versendet und empfangen. Im Webmail erhalten wir folgende Hinweise beim versenden von EMails    !clipboard202403250751h8l4i.png!    !clipboard202403250751h6e8a.png!    Eine berpr\\u00fcfung mit MXToolbox zeigt bei einem SMTPCheck folgendes an     !clipboard2024032507512pdnb.png!    D\\u00fcrfen wir euch bitten, das Problem sofort zu beheben?    Nachtrag Bei meinen Recherchen habe ich festgestellt, dass es auch die stud.kslzh.chDomain auch betrifft    !clipboard202403250752fxdsc.png!  \",\n          \"KEN: mobile App aufschalten Einfach mal alle Module freischalten\",\n          \"[MBA#1127156] Layout-Anpassung auf Typo 3 - Webseite (KWI) Guten Morgen    Ich habe eine eher spezielle Anfrage von der Kantonsschule Wiedikon.    Die Kantonsschule Wiedikon w\\u00fcnscht eine Layout Anpassung f\\u00fcr mobile Ger\\u00e4te zu machen f\\u00fcr das Video welches auf der Webseite der KWI Baustand der Hohlstrasse hochgeladen wurde. Die Kontaktperson bei fr\\u00fcheren Anpassungen bei euch war Noemi Schmid. Die Schule w\\u00fcnscht nun eine Kontaktaufnahme von euch  mit Herrn Philippe da Silva Wong, Tel. 044 457 71 53 um die Einzelheiten zu besprechen.  W\\u00e4re eine Kontaktaufnahme seitens von euch m\\u00f6glich?    Dieses Ticket eilt ein wenig da es schon l\\u00e4nger auf eine Antwort wartet. Ich habe das Ticket am 27.02.2024 an euch weitergeleitet ohne R\\u00fcckmeldung bis jetzt.     Freundliche Gr\\u00fcsse  Kushtrim Veliji    Bildungsdirektion Kanton Z\\u00fcrich  Mittelschul und Berufsbildungsamt  Digital Service Center Sek II  Ausstellungsstrasse 80  8090 Z\\u00fcrich  Telefon 043 259 77 27\"\n        ],\n        \"semantic_type\": \"\",\n        \"description\": \"\"\n      }\n    }\n  ]\n}"
            }
          },
          "metadata": {},
          "execution_count": 54
        }
      ]
    },
    {
      "cell_type": "code",
      "source": [
        "df = rework_datas(df, file_path_sum)"
      ],
      "metadata": {
        "id": "AoUi_OGVf82j",
        "colab": {
          "base_uri": "https://localhost:8080/",
          "height": 384
        },
        "outputId": "07f43275-90f4-41e5-95a0-34c4e7b377b9"
      },
      "execution_count": 60,
      "outputs": [
        {
          "output_type": "stream",
          "name": "stdout",
          "text": [
            "FILE PATH:  ./drive/Othercomputers/X1/code/processed_summarization_per_ticket_small.json\n",
            "                                         issue_title  \\\n",
            "0  [MBA#1127156] Layout-Anpassung auf Typo 3 - We...   \n",
            "1  [MBA#1128940] Zimbra Störung komplette Schule:...   \n",
            "2  Fwd: [MBA#1128639] AW: Druckereinstellungen Se...   \n",
            "3                        KEN: mobile App aufschalten   \n",
            "\n",
            "                                   issue_description  \\\n",
            "0  Guten Morgen    Ich habe eine eher spezielle A...   \n",
            "1  Guten Morgen allerseits    Schule KSLZH  Melde...   \n",
            "2  Hallo    Seit der Umstellung auf Leunet hat di...   \n",
            "3               Einfach mal alle Module freischalten   \n",
            "\n",
            "                                       combined_text  \n",
            "0  [MBA#1127156] Layout-Anpassung auf Typo 3 - We...  \n",
            "1  [MBA#1128940] Zimbra Störung komplette Schule:...  \n",
            "2  Fwd: [MBA#1128639] AW: Druckereinstellungen Se...  \n",
            "3  KEN: mobile App aufschalten Einfach mal alle M...  \n",
            "NO FILE\n"
          ]
        },
        {
          "output_type": "display_data",
          "data": {
            "text/plain": [
              "<IPython.core.display.Javascript object>"
            ],
            "application/javascript": [
              "\n",
              "    async function download(id, filename, size) {\n",
              "      if (!google.colab.kernel.accessAllowed) {\n",
              "        return;\n",
              "      }\n",
              "      const div = document.createElement('div');\n",
              "      const label = document.createElement('label');\n",
              "      label.textContent = `Downloading \"${filename}\": `;\n",
              "      div.appendChild(label);\n",
              "      const progress = document.createElement('progress');\n",
              "      progress.max = size;\n",
              "      div.appendChild(progress);\n",
              "      document.body.appendChild(div);\n",
              "\n",
              "      const buffers = [];\n",
              "      let downloaded = 0;\n",
              "\n",
              "      const channel = await google.colab.kernel.comms.open(id);\n",
              "      // Send a message to notify the kernel that we're ready.\n",
              "      channel.send({})\n",
              "\n",
              "      for await (const message of channel.messages) {\n",
              "        // Send a message to notify the kernel that we're ready.\n",
              "        channel.send({})\n",
              "        if (message.buffers) {\n",
              "          for (const buffer of message.buffers) {\n",
              "            buffers.push(buffer);\n",
              "            downloaded += buffer.byteLength;\n",
              "            progress.value = downloaded;\n",
              "          }\n",
              "        }\n",
              "      }\n",
              "      const blob = new Blob(buffers, {type: 'application/binary'});\n",
              "      const a = document.createElement('a');\n",
              "      a.href = window.URL.createObjectURL(blob);\n",
              "      a.download = filename;\n",
              "      div.appendChild(a);\n",
              "      a.click();\n",
              "      div.remove();\n",
              "    }\n",
              "  "
            ]
          },
          "metadata": {}
        },
        {
          "output_type": "display_data",
          "data": {
            "text/plain": [
              "<IPython.core.display.Javascript object>"
            ],
            "application/javascript": [
              "download(\"download_ab30dd1a-4a96-44e8-a607-4d6549191ec3\", \"processed_summarization_per_ticket_small.json\", 7695)"
            ]
          },
          "metadata": {}
        },
        {
          "output_type": "stream",
          "name": "stdout",
          "text": [
            "Processed new data and saved to file.\n"
          ]
        }
      ]
    },
    {
      "cell_type": "code",
      "source": [
        "df"
      ],
      "metadata": {
        "colab": {
          "base_uri": "https://localhost:8080/",
          "height": 175
        },
        "id": "1r__vBQBAGsw",
        "outputId": "902e1a02-8313-4a49-bccb-fdd0a733470e"
      },
      "execution_count": 61,
      "outputs": [
        {
          "output_type": "execute_result",
          "data": {
            "text/plain": [
              "                                         issue_title  \\\n",
              "0  [MBA#1127156] Layout-Anpassung auf Typo 3 - We...   \n",
              "1  [MBA#1128940] Zimbra Störung komplette Schule:...   \n",
              "2  Fwd: [MBA#1128639] AW: Druckereinstellungen Se...   \n",
              "3                        KEN: mobile App aufschalten   \n",
              "\n",
              "                                   issue_description  \\\n",
              "0  Guten Morgen    Ich habe eine eher spezielle A...   \n",
              "1  Guten Morgen allerseits    Schule KSLZH  Melde...   \n",
              "2  Hallo    Seit der Umstellung auf Leunet hat di...   \n",
              "3               Einfach mal alle Module freischalten   \n",
              "\n",
              "                                       combined_text  \\\n",
              "0  [MBA#1127156] Layout-Anpassung auf Typo 3 - We...   \n",
              "1  [MBA#1128940] Zimbra Störung komplette Schule:...   \n",
              "2  Fwd: [MBA#1128639] AW: Druckereinstellungen Se...   \n",
              "3  KEN: mobile App aufschalten Einfach mal alle M...   \n",
              "\n",
              "                                reworked_information  \n",
              "0  - **Issue:** Development\\n- **Affected Systems...  \n",
              "1  - **Issue:** Support\\n- **Affected Systems:** ...  \n",
              "2  - Issue: Support\\n- Affected Systems: VDI, Can...  \n",
              "3  - Issue: Support\\n- Affected Systems: Mobile A...  "
            ],
            "text/html": [
              "\n",
              "  <div id=\"df-0b2c925c-5fa5-48c5-8870-0c6c3c677c0b\" class=\"colab-df-container\">\n",
              "    <div>\n",
              "<style scoped>\n",
              "    .dataframe tbody tr th:only-of-type {\n",
              "        vertical-align: middle;\n",
              "    }\n",
              "\n",
              "    .dataframe tbody tr th {\n",
              "        vertical-align: top;\n",
              "    }\n",
              "\n",
              "    .dataframe thead th {\n",
              "        text-align: right;\n",
              "    }\n",
              "</style>\n",
              "<table border=\"1\" class=\"dataframe\">\n",
              "  <thead>\n",
              "    <tr style=\"text-align: right;\">\n",
              "      <th></th>\n",
              "      <th>issue_title</th>\n",
              "      <th>issue_description</th>\n",
              "      <th>combined_text</th>\n",
              "      <th>reworked_information</th>\n",
              "    </tr>\n",
              "  </thead>\n",
              "  <tbody>\n",
              "    <tr>\n",
              "      <th>0</th>\n",
              "      <td>[MBA#1127156] Layout-Anpassung auf Typo 3 - We...</td>\n",
              "      <td>Guten Morgen    Ich habe eine eher spezielle A...</td>\n",
              "      <td>[MBA#1127156] Layout-Anpassung auf Typo 3 - We...</td>\n",
              "      <td>- **Issue:** Development\\n- **Affected Systems...</td>\n",
              "    </tr>\n",
              "    <tr>\n",
              "      <th>1</th>\n",
              "      <td>[MBA#1128940] Zimbra Störung komplette Schule:...</td>\n",
              "      <td>Guten Morgen allerseits    Schule KSLZH  Melde...</td>\n",
              "      <td>[MBA#1128940] Zimbra Störung komplette Schule:...</td>\n",
              "      <td>- **Issue:** Support\\n- **Affected Systems:** ...</td>\n",
              "    </tr>\n",
              "    <tr>\n",
              "      <th>2</th>\n",
              "      <td>Fwd: [MBA#1128639] AW: Druckereinstellungen Se...</td>\n",
              "      <td>Hallo    Seit der Umstellung auf Leunet hat di...</td>\n",
              "      <td>Fwd: [MBA#1128639] AW: Druckereinstellungen Se...</td>\n",
              "      <td>- Issue: Support\\n- Affected Systems: VDI, Can...</td>\n",
              "    </tr>\n",
              "    <tr>\n",
              "      <th>3</th>\n",
              "      <td>KEN: mobile App aufschalten</td>\n",
              "      <td>Einfach mal alle Module freischalten</td>\n",
              "      <td>KEN: mobile App aufschalten Einfach mal alle M...</td>\n",
              "      <td>- Issue: Support\\n- Affected Systems: Mobile A...</td>\n",
              "    </tr>\n",
              "  </tbody>\n",
              "</table>\n",
              "</div>\n",
              "    <div class=\"colab-df-buttons\">\n",
              "\n",
              "  <div class=\"colab-df-container\">\n",
              "    <button class=\"colab-df-convert\" onclick=\"convertToInteractive('df-0b2c925c-5fa5-48c5-8870-0c6c3c677c0b')\"\n",
              "            title=\"Convert this dataframe to an interactive table.\"\n",
              "            style=\"display:none;\">\n",
              "\n",
              "  <svg xmlns=\"http://www.w3.org/2000/svg\" height=\"24px\" viewBox=\"0 -960 960 960\">\n",
              "    <path d=\"M120-120v-720h720v720H120Zm60-500h600v-160H180v160Zm220 220h160v-160H400v160Zm0 220h160v-160H400v160ZM180-400h160v-160H180v160Zm440 0h160v-160H620v160ZM180-180h160v-160H180v160Zm440 0h160v-160H620v160Z\"/>\n",
              "  </svg>\n",
              "    </button>\n",
              "\n",
              "  <style>\n",
              "    .colab-df-container {\n",
              "      display:flex;\n",
              "      gap: 12px;\n",
              "    }\n",
              "\n",
              "    .colab-df-convert {\n",
              "      background-color: #E8F0FE;\n",
              "      border: none;\n",
              "      border-radius: 50%;\n",
              "      cursor: pointer;\n",
              "      display: none;\n",
              "      fill: #1967D2;\n",
              "      height: 32px;\n",
              "      padding: 0 0 0 0;\n",
              "      width: 32px;\n",
              "    }\n",
              "\n",
              "    .colab-df-convert:hover {\n",
              "      background-color: #E2EBFA;\n",
              "      box-shadow: 0px 1px 2px rgba(60, 64, 67, 0.3), 0px 1px 3px 1px rgba(60, 64, 67, 0.15);\n",
              "      fill: #174EA6;\n",
              "    }\n",
              "\n",
              "    .colab-df-buttons div {\n",
              "      margin-bottom: 4px;\n",
              "    }\n",
              "\n",
              "    [theme=dark] .colab-df-convert {\n",
              "      background-color: #3B4455;\n",
              "      fill: #D2E3FC;\n",
              "    }\n",
              "\n",
              "    [theme=dark] .colab-df-convert:hover {\n",
              "      background-color: #434B5C;\n",
              "      box-shadow: 0px 1px 3px 1px rgba(0, 0, 0, 0.15);\n",
              "      filter: drop-shadow(0px 1px 2px rgba(0, 0, 0, 0.3));\n",
              "      fill: #FFFFFF;\n",
              "    }\n",
              "  </style>\n",
              "\n",
              "    <script>\n",
              "      const buttonEl =\n",
              "        document.querySelector('#df-0b2c925c-5fa5-48c5-8870-0c6c3c677c0b button.colab-df-convert');\n",
              "      buttonEl.style.display =\n",
              "        google.colab.kernel.accessAllowed ? 'block' : 'none';\n",
              "\n",
              "      async function convertToInteractive(key) {\n",
              "        const element = document.querySelector('#df-0b2c925c-5fa5-48c5-8870-0c6c3c677c0b');\n",
              "        const dataTable =\n",
              "          await google.colab.kernel.invokeFunction('convertToInteractive',\n",
              "                                                    [key], {});\n",
              "        if (!dataTable) return;\n",
              "\n",
              "        const docLinkHtml = 'Like what you see? Visit the ' +\n",
              "          '<a target=\"_blank\" href=https://colab.research.google.com/notebooks/data_table.ipynb>data table notebook</a>'\n",
              "          + ' to learn more about interactive tables.';\n",
              "        element.innerHTML = '';\n",
              "        dataTable['output_type'] = 'display_data';\n",
              "        await google.colab.output.renderOutput(dataTable, element);\n",
              "        const docLink = document.createElement('div');\n",
              "        docLink.innerHTML = docLinkHtml;\n",
              "        element.appendChild(docLink);\n",
              "      }\n",
              "    </script>\n",
              "  </div>\n",
              "\n",
              "\n",
              "<div id=\"df-6524d0ca-d8fd-4f59-844b-76b7fd2f163a\">\n",
              "  <button class=\"colab-df-quickchart\" onclick=\"quickchart('df-6524d0ca-d8fd-4f59-844b-76b7fd2f163a')\"\n",
              "            title=\"Suggest charts\"\n",
              "            style=\"display:none;\">\n",
              "\n",
              "<svg xmlns=\"http://www.w3.org/2000/svg\" height=\"24px\"viewBox=\"0 0 24 24\"\n",
              "     width=\"24px\">\n",
              "    <g>\n",
              "        <path d=\"M19 3H5c-1.1 0-2 .9-2 2v14c0 1.1.9 2 2 2h14c1.1 0 2-.9 2-2V5c0-1.1-.9-2-2-2zM9 17H7v-7h2v7zm4 0h-2V7h2v10zm4 0h-2v-4h2v4z\"/>\n",
              "    </g>\n",
              "</svg>\n",
              "  </button>\n",
              "\n",
              "<style>\n",
              "  .colab-df-quickchart {\n",
              "      --bg-color: #E8F0FE;\n",
              "      --fill-color: #1967D2;\n",
              "      --hover-bg-color: #E2EBFA;\n",
              "      --hover-fill-color: #174EA6;\n",
              "      --disabled-fill-color: #AAA;\n",
              "      --disabled-bg-color: #DDD;\n",
              "  }\n",
              "\n",
              "  [theme=dark] .colab-df-quickchart {\n",
              "      --bg-color: #3B4455;\n",
              "      --fill-color: #D2E3FC;\n",
              "      --hover-bg-color: #434B5C;\n",
              "      --hover-fill-color: #FFFFFF;\n",
              "      --disabled-bg-color: #3B4455;\n",
              "      --disabled-fill-color: #666;\n",
              "  }\n",
              "\n",
              "  .colab-df-quickchart {\n",
              "    background-color: var(--bg-color);\n",
              "    border: none;\n",
              "    border-radius: 50%;\n",
              "    cursor: pointer;\n",
              "    display: none;\n",
              "    fill: var(--fill-color);\n",
              "    height: 32px;\n",
              "    padding: 0;\n",
              "    width: 32px;\n",
              "  }\n",
              "\n",
              "  .colab-df-quickchart:hover {\n",
              "    background-color: var(--hover-bg-color);\n",
              "    box-shadow: 0 1px 2px rgba(60, 64, 67, 0.3), 0 1px 3px 1px rgba(60, 64, 67, 0.15);\n",
              "    fill: var(--button-hover-fill-color);\n",
              "  }\n",
              "\n",
              "  .colab-df-quickchart-complete:disabled,\n",
              "  .colab-df-quickchart-complete:disabled:hover {\n",
              "    background-color: var(--disabled-bg-color);\n",
              "    fill: var(--disabled-fill-color);\n",
              "    box-shadow: none;\n",
              "  }\n",
              "\n",
              "  .colab-df-spinner {\n",
              "    border: 2px solid var(--fill-color);\n",
              "    border-color: transparent;\n",
              "    border-bottom-color: var(--fill-color);\n",
              "    animation:\n",
              "      spin 1s steps(1) infinite;\n",
              "  }\n",
              "\n",
              "  @keyframes spin {\n",
              "    0% {\n",
              "      border-color: transparent;\n",
              "      border-bottom-color: var(--fill-color);\n",
              "      border-left-color: var(--fill-color);\n",
              "    }\n",
              "    20% {\n",
              "      border-color: transparent;\n",
              "      border-left-color: var(--fill-color);\n",
              "      border-top-color: var(--fill-color);\n",
              "    }\n",
              "    30% {\n",
              "      border-color: transparent;\n",
              "      border-left-color: var(--fill-color);\n",
              "      border-top-color: var(--fill-color);\n",
              "      border-right-color: var(--fill-color);\n",
              "    }\n",
              "    40% {\n",
              "      border-color: transparent;\n",
              "      border-right-color: var(--fill-color);\n",
              "      border-top-color: var(--fill-color);\n",
              "    }\n",
              "    60% {\n",
              "      border-color: transparent;\n",
              "      border-right-color: var(--fill-color);\n",
              "    }\n",
              "    80% {\n",
              "      border-color: transparent;\n",
              "      border-right-color: var(--fill-color);\n",
              "      border-bottom-color: var(--fill-color);\n",
              "    }\n",
              "    90% {\n",
              "      border-color: transparent;\n",
              "      border-bottom-color: var(--fill-color);\n",
              "    }\n",
              "  }\n",
              "</style>\n",
              "\n",
              "  <script>\n",
              "    async function quickchart(key) {\n",
              "      const quickchartButtonEl =\n",
              "        document.querySelector('#' + key + ' button');\n",
              "      quickchartButtonEl.disabled = true;  // To prevent multiple clicks.\n",
              "      quickchartButtonEl.classList.add('colab-df-spinner');\n",
              "      try {\n",
              "        const charts = await google.colab.kernel.invokeFunction(\n",
              "            'suggestCharts', [key], {});\n",
              "      } catch (error) {\n",
              "        console.error('Error during call to suggestCharts:', error);\n",
              "      }\n",
              "      quickchartButtonEl.classList.remove('colab-df-spinner');\n",
              "      quickchartButtonEl.classList.add('colab-df-quickchart-complete');\n",
              "    }\n",
              "    (() => {\n",
              "      let quickchartButtonEl =\n",
              "        document.querySelector('#df-6524d0ca-d8fd-4f59-844b-76b7fd2f163a button');\n",
              "      quickchartButtonEl.style.display =\n",
              "        google.colab.kernel.accessAllowed ? 'block' : 'none';\n",
              "    })();\n",
              "  </script>\n",
              "</div>\n",
              "    </div>\n",
              "  </div>\n"
            ],
            "application/vnd.google.colaboratory.intrinsic+json": {
              "type": "dataframe",
              "variable_name": "df",
              "summary": "{\n  \"name\": \"df\",\n  \"rows\": 4,\n  \"fields\": [\n    {\n      \"column\": \"issue_title\",\n      \"properties\": {\n        \"dtype\": \"string\",\n        \"num_unique_values\": 4,\n        \"samples\": [\n          \"[MBA#1128940] Zimbra St\\u00f6rung komplette Schule: E-Mails senden und empfangen (kslzh.ch) funktioniert nicht\",\n          \"KEN: mobile App aufschalten\",\n          \"[MBA#1127156] Layout-Anpassung auf Typo 3 - Webseite (KWI)\"\n        ],\n        \"semantic_type\": \"\",\n        \"description\": \"\"\n      }\n    },\n    {\n      \"column\": \"issue_description\",\n      \"properties\": {\n        \"dtype\": \"string\",\n        \"num_unique_values\": 4,\n        \"samples\": [\n          \"Guten Morgen allerseits    Schule KSLZH  Melder Laszlo Cseri    Problem Zimbra    Wir kslzh.ch k\\u00f6nnen keine EMails senden auch Mails von GMX und icloud.com versendet und empfangen. Im Webmail erhalten wir folgende Hinweise beim versenden von EMails    !clipboard202403250751h8l4i.png!    !clipboard202403250751h6e8a.png!    Eine berpr\\u00fcfung mit MXToolbox zeigt bei einem SMTPCheck folgendes an     !clipboard2024032507512pdnb.png!    D\\u00fcrfen wir euch bitten, das Problem sofort zu beheben?    Nachtrag Bei meinen Recherchen habe ich festgestellt, dass es auch die stud.kslzh.chDomain auch betrifft    !clipboard202403250752fxdsc.png!  \",\n          \"Einfach mal alle Module freischalten\",\n          \"Guten Morgen    Ich habe eine eher spezielle Anfrage von der Kantonsschule Wiedikon.    Die Kantonsschule Wiedikon w\\u00fcnscht eine Layout Anpassung f\\u00fcr mobile Ger\\u00e4te zu machen f\\u00fcr das Video welches auf der Webseite der KWI Baustand der Hohlstrasse hochgeladen wurde. Die Kontaktperson bei fr\\u00fcheren Anpassungen bei euch war Noemi Schmid. Die Schule w\\u00fcnscht nun eine Kontaktaufnahme von euch  mit Herrn Philippe da Silva Wong, Tel. 044 457 71 53 um die Einzelheiten zu besprechen.  W\\u00e4re eine Kontaktaufnahme seitens von euch m\\u00f6glich?    Dieses Ticket eilt ein wenig da es schon l\\u00e4nger auf eine Antwort wartet. Ich habe das Ticket am 27.02.2024 an euch weitergeleitet ohne R\\u00fcckmeldung bis jetzt.     Freundliche Gr\\u00fcsse  Kushtrim Veliji    Bildungsdirektion Kanton Z\\u00fcrich  Mittelschul und Berufsbildungsamt  Digital Service Center Sek II  Ausstellungsstrasse 80  8090 Z\\u00fcrich  Telefon 043 259 77 27\"\n        ],\n        \"semantic_type\": \"\",\n        \"description\": \"\"\n      }\n    },\n    {\n      \"column\": \"combined_text\",\n      \"properties\": {\n        \"dtype\": \"string\",\n        \"num_unique_values\": 4,\n        \"samples\": [\n          \"[MBA#1128940] Zimbra St\\u00f6rung komplette Schule: E-Mails senden und empfangen (kslzh.ch) funktioniert nicht Guten Morgen allerseits    Schule KSLZH  Melder Laszlo Cseri    Problem Zimbra    Wir kslzh.ch k\\u00f6nnen keine EMails senden auch Mails von GMX und icloud.com versendet und empfangen. Im Webmail erhalten wir folgende Hinweise beim versenden von EMails    !clipboard202403250751h8l4i.png!    !clipboard202403250751h6e8a.png!    Eine berpr\\u00fcfung mit MXToolbox zeigt bei einem SMTPCheck folgendes an     !clipboard2024032507512pdnb.png!    D\\u00fcrfen wir euch bitten, das Problem sofort zu beheben?    Nachtrag Bei meinen Recherchen habe ich festgestellt, dass es auch die stud.kslzh.chDomain auch betrifft    !clipboard202403250752fxdsc.png!  \",\n          \"KEN: mobile App aufschalten Einfach mal alle Module freischalten\",\n          \"[MBA#1127156] Layout-Anpassung auf Typo 3 - Webseite (KWI) Guten Morgen    Ich habe eine eher spezielle Anfrage von der Kantonsschule Wiedikon.    Die Kantonsschule Wiedikon w\\u00fcnscht eine Layout Anpassung f\\u00fcr mobile Ger\\u00e4te zu machen f\\u00fcr das Video welches auf der Webseite der KWI Baustand der Hohlstrasse hochgeladen wurde. Die Kontaktperson bei fr\\u00fcheren Anpassungen bei euch war Noemi Schmid. Die Schule w\\u00fcnscht nun eine Kontaktaufnahme von euch  mit Herrn Philippe da Silva Wong, Tel. 044 457 71 53 um die Einzelheiten zu besprechen.  W\\u00e4re eine Kontaktaufnahme seitens von euch m\\u00f6glich?    Dieses Ticket eilt ein wenig da es schon l\\u00e4nger auf eine Antwort wartet. Ich habe das Ticket am 27.02.2024 an euch weitergeleitet ohne R\\u00fcckmeldung bis jetzt.     Freundliche Gr\\u00fcsse  Kushtrim Veliji    Bildungsdirektion Kanton Z\\u00fcrich  Mittelschul und Berufsbildungsamt  Digital Service Center Sek II  Ausstellungsstrasse 80  8090 Z\\u00fcrich  Telefon 043 259 77 27\"\n        ],\n        \"semantic_type\": \"\",\n        \"description\": \"\"\n      }\n    },\n    {\n      \"column\": \"reworked_information\",\n      \"properties\": {\n        \"dtype\": \"string\",\n        \"num_unique_values\": 4,\n        \"samples\": [\n          \"- **Issue:** Support\\n- **Affected Systems:** Zimbra Email Servers (kslzh.ch and stud.kslzh.ch domains)\\n- **Reported Problem:** Users at the school (KSLZH) are unable to send or receive emails using the kslzh.ch domain. They are also experiencing issues with sending and receiving emails from GMX and icloud.com. When attempting to send emails via Webmail, they encounter errors. An MXToolbox check shows issues with SMTP. The problem also affects the stud.kslzh.ch domain. Requesting immediate resolution.\",\n          \"- Issue: Support\\n- Affected Systems: Mobile App\\n- Reported Problem: User is requesting to activate all modules in the mobile app.\",\n          \"- **Issue:** Development\\n- **Affected Systems:** Typo3 website for Kantonsschule Wiedikon (KWI)\\n- **Reported Problem:** Request for a layout adjustment for mobile devices for the video uploaded on the KWI Hohlstrasse construction status on the website. The Kantonsschule Wiedikon is specifically requesting a layout modification. The contact person for previous adjustments was Noemi Schmid. They now wish for contact to be made with Mr. Philippe da Silva Wong at 044 457 71 53 to discuss the details. The urgency of this request is emphasized as it has been awaiting a response since 27.02.2024.\"\n        ],\n        \"semantic_type\": \"\",\n        \"description\": \"\"\n      }\n    }\n  ]\n}"
            }
          },
          "metadata": {},
          "execution_count": 61
        }
      ]
    },
    {
      "cell_type": "code",
      "source": [
        "clean_datas(df, 'reworked_information')"
      ],
      "metadata": {
        "id": "puvfgFO9airn",
        "colab": {
          "base_uri": "https://localhost:8080/",
          "height": 244
        },
        "outputId": "76a8b1bc-1572-4c90-bf9b-ebbea3ce7aa2"
      },
      "execution_count": 62,
      "outputs": [
        {
          "output_type": "execute_result",
          "data": {
            "text/plain": [
              "                                         issue_title  \\\n",
              "0  [MBA#1127156] Layout-Anpassung auf Typo 3 - We...   \n",
              "1  [MBA#1128940] Zimbra Störung komplette Schule:...   \n",
              "2  Fwd: [MBA#1128639] AW: Druckereinstellungen Se...   \n",
              "3                        KEN: mobile App aufschalten   \n",
              "\n",
              "                                   issue_description  \\\n",
              "0  Guten Morgen    Ich habe eine eher spezielle A...   \n",
              "1  Guten Morgen allerseits    Schule KSLZH  Melde...   \n",
              "2  Hallo    Seit der Umstellung auf Leunet hat di...   \n",
              "3               Einfach mal alle Module freischalten   \n",
              "\n",
              "                                       combined_text  \\\n",
              "0  [MBA#1127156] Layout-Anpassung auf Typo 3 - We...   \n",
              "1  [MBA#1128940] Zimbra Störung komplette Schule:...   \n",
              "2  Fwd: [MBA#1128639] AW: Druckereinstellungen Se...   \n",
              "3  KEN: mobile App aufschalten Einfach mal alle M...   \n",
              "\n",
              "                                reworked_information  \\\n",
              "0  - **Issue:** Development\\n- **Affected Systems...   \n",
              "1  - **Issue:** Support\\n- **Affected Systems:** ...   \n",
              "2  - Issue: Support\\n- Affected Systems: VDI, Can...   \n",
              "3  - Issue: Support\\n- Affected Systems: Mobile A...   \n",
              "\n",
              "                        reworked_information_cleaned  \n",
              "0  development website kantonsschule wiedikon kwi...  \n",
              "1  support zimbra email servers domains users sch...  \n",
              "2  support vdi canon imagerunner advance printer ...  \n",
              "3  support mobile app user requesting activate mo...  "
            ],
            "text/html": [
              "\n",
              "  <div id=\"df-6193e8d9-4e7c-42cf-b73d-09d5892fb527\" class=\"colab-df-container\">\n",
              "    <div>\n",
              "<style scoped>\n",
              "    .dataframe tbody tr th:only-of-type {\n",
              "        vertical-align: middle;\n",
              "    }\n",
              "\n",
              "    .dataframe tbody tr th {\n",
              "        vertical-align: top;\n",
              "    }\n",
              "\n",
              "    .dataframe thead th {\n",
              "        text-align: right;\n",
              "    }\n",
              "</style>\n",
              "<table border=\"1\" class=\"dataframe\">\n",
              "  <thead>\n",
              "    <tr style=\"text-align: right;\">\n",
              "      <th></th>\n",
              "      <th>issue_title</th>\n",
              "      <th>issue_description</th>\n",
              "      <th>combined_text</th>\n",
              "      <th>reworked_information</th>\n",
              "      <th>reworked_information_cleaned</th>\n",
              "    </tr>\n",
              "  </thead>\n",
              "  <tbody>\n",
              "    <tr>\n",
              "      <th>0</th>\n",
              "      <td>[MBA#1127156] Layout-Anpassung auf Typo 3 - We...</td>\n",
              "      <td>Guten Morgen    Ich habe eine eher spezielle A...</td>\n",
              "      <td>[MBA#1127156] Layout-Anpassung auf Typo 3 - We...</td>\n",
              "      <td>- **Issue:** Development\\n- **Affected Systems...</td>\n",
              "      <td>development website kantonsschule wiedikon kwi...</td>\n",
              "    </tr>\n",
              "    <tr>\n",
              "      <th>1</th>\n",
              "      <td>[MBA#1128940] Zimbra Störung komplette Schule:...</td>\n",
              "      <td>Guten Morgen allerseits    Schule KSLZH  Melde...</td>\n",
              "      <td>[MBA#1128940] Zimbra Störung komplette Schule:...</td>\n",
              "      <td>- **Issue:** Support\\n- **Affected Systems:** ...</td>\n",
              "      <td>support zimbra email servers domains users sch...</td>\n",
              "    </tr>\n",
              "    <tr>\n",
              "      <th>2</th>\n",
              "      <td>Fwd: [MBA#1128639] AW: Druckereinstellungen Se...</td>\n",
              "      <td>Hallo    Seit der Umstellung auf Leunet hat di...</td>\n",
              "      <td>Fwd: [MBA#1128639] AW: Druckereinstellungen Se...</td>\n",
              "      <td>- Issue: Support\\n- Affected Systems: VDI, Can...</td>\n",
              "      <td>support vdi canon imagerunner advance printer ...</td>\n",
              "    </tr>\n",
              "    <tr>\n",
              "      <th>3</th>\n",
              "      <td>KEN: mobile App aufschalten</td>\n",
              "      <td>Einfach mal alle Module freischalten</td>\n",
              "      <td>KEN: mobile App aufschalten Einfach mal alle M...</td>\n",
              "      <td>- Issue: Support\\n- Affected Systems: Mobile A...</td>\n",
              "      <td>support mobile app user requesting activate mo...</td>\n",
              "    </tr>\n",
              "  </tbody>\n",
              "</table>\n",
              "</div>\n",
              "    <div class=\"colab-df-buttons\">\n",
              "\n",
              "  <div class=\"colab-df-container\">\n",
              "    <button class=\"colab-df-convert\" onclick=\"convertToInteractive('df-6193e8d9-4e7c-42cf-b73d-09d5892fb527')\"\n",
              "            title=\"Convert this dataframe to an interactive table.\"\n",
              "            style=\"display:none;\">\n",
              "\n",
              "  <svg xmlns=\"http://www.w3.org/2000/svg\" height=\"24px\" viewBox=\"0 -960 960 960\">\n",
              "    <path d=\"M120-120v-720h720v720H120Zm60-500h600v-160H180v160Zm220 220h160v-160H400v160Zm0 220h160v-160H400v160ZM180-400h160v-160H180v160Zm440 0h160v-160H620v160ZM180-180h160v-160H180v160Zm440 0h160v-160H620v160Z\"/>\n",
              "  </svg>\n",
              "    </button>\n",
              "\n",
              "  <style>\n",
              "    .colab-df-container {\n",
              "      display:flex;\n",
              "      gap: 12px;\n",
              "    }\n",
              "\n",
              "    .colab-df-convert {\n",
              "      background-color: #E8F0FE;\n",
              "      border: none;\n",
              "      border-radius: 50%;\n",
              "      cursor: pointer;\n",
              "      display: none;\n",
              "      fill: #1967D2;\n",
              "      height: 32px;\n",
              "      padding: 0 0 0 0;\n",
              "      width: 32px;\n",
              "    }\n",
              "\n",
              "    .colab-df-convert:hover {\n",
              "      background-color: #E2EBFA;\n",
              "      box-shadow: 0px 1px 2px rgba(60, 64, 67, 0.3), 0px 1px 3px 1px rgba(60, 64, 67, 0.15);\n",
              "      fill: #174EA6;\n",
              "    }\n",
              "\n",
              "    .colab-df-buttons div {\n",
              "      margin-bottom: 4px;\n",
              "    }\n",
              "\n",
              "    [theme=dark] .colab-df-convert {\n",
              "      background-color: #3B4455;\n",
              "      fill: #D2E3FC;\n",
              "    }\n",
              "\n",
              "    [theme=dark] .colab-df-convert:hover {\n",
              "      background-color: #434B5C;\n",
              "      box-shadow: 0px 1px 3px 1px rgba(0, 0, 0, 0.15);\n",
              "      filter: drop-shadow(0px 1px 2px rgba(0, 0, 0, 0.3));\n",
              "      fill: #FFFFFF;\n",
              "    }\n",
              "  </style>\n",
              "\n",
              "    <script>\n",
              "      const buttonEl =\n",
              "        document.querySelector('#df-6193e8d9-4e7c-42cf-b73d-09d5892fb527 button.colab-df-convert');\n",
              "      buttonEl.style.display =\n",
              "        google.colab.kernel.accessAllowed ? 'block' : 'none';\n",
              "\n",
              "      async function convertToInteractive(key) {\n",
              "        const element = document.querySelector('#df-6193e8d9-4e7c-42cf-b73d-09d5892fb527');\n",
              "        const dataTable =\n",
              "          await google.colab.kernel.invokeFunction('convertToInteractive',\n",
              "                                                    [key], {});\n",
              "        if (!dataTable) return;\n",
              "\n",
              "        const docLinkHtml = 'Like what you see? Visit the ' +\n",
              "          '<a target=\"_blank\" href=https://colab.research.google.com/notebooks/data_table.ipynb>data table notebook</a>'\n",
              "          + ' to learn more about interactive tables.';\n",
              "        element.innerHTML = '';\n",
              "        dataTable['output_type'] = 'display_data';\n",
              "        await google.colab.output.renderOutput(dataTable, element);\n",
              "        const docLink = document.createElement('div');\n",
              "        docLink.innerHTML = docLinkHtml;\n",
              "        element.appendChild(docLink);\n",
              "      }\n",
              "    </script>\n",
              "  </div>\n",
              "\n",
              "\n",
              "<div id=\"df-0ceb7f83-8d84-441b-9217-05c6409aaaf4\">\n",
              "  <button class=\"colab-df-quickchart\" onclick=\"quickchart('df-0ceb7f83-8d84-441b-9217-05c6409aaaf4')\"\n",
              "            title=\"Suggest charts\"\n",
              "            style=\"display:none;\">\n",
              "\n",
              "<svg xmlns=\"http://www.w3.org/2000/svg\" height=\"24px\"viewBox=\"0 0 24 24\"\n",
              "     width=\"24px\">\n",
              "    <g>\n",
              "        <path d=\"M19 3H5c-1.1 0-2 .9-2 2v14c0 1.1.9 2 2 2h14c1.1 0 2-.9 2-2V5c0-1.1-.9-2-2-2zM9 17H7v-7h2v7zm4 0h-2V7h2v10zm4 0h-2v-4h2v4z\"/>\n",
              "    </g>\n",
              "</svg>\n",
              "  </button>\n",
              "\n",
              "<style>\n",
              "  .colab-df-quickchart {\n",
              "      --bg-color: #E8F0FE;\n",
              "      --fill-color: #1967D2;\n",
              "      --hover-bg-color: #E2EBFA;\n",
              "      --hover-fill-color: #174EA6;\n",
              "      --disabled-fill-color: #AAA;\n",
              "      --disabled-bg-color: #DDD;\n",
              "  }\n",
              "\n",
              "  [theme=dark] .colab-df-quickchart {\n",
              "      --bg-color: #3B4455;\n",
              "      --fill-color: #D2E3FC;\n",
              "      --hover-bg-color: #434B5C;\n",
              "      --hover-fill-color: #FFFFFF;\n",
              "      --disabled-bg-color: #3B4455;\n",
              "      --disabled-fill-color: #666;\n",
              "  }\n",
              "\n",
              "  .colab-df-quickchart {\n",
              "    background-color: var(--bg-color);\n",
              "    border: none;\n",
              "    border-radius: 50%;\n",
              "    cursor: pointer;\n",
              "    display: none;\n",
              "    fill: var(--fill-color);\n",
              "    height: 32px;\n",
              "    padding: 0;\n",
              "    width: 32px;\n",
              "  }\n",
              "\n",
              "  .colab-df-quickchart:hover {\n",
              "    background-color: var(--hover-bg-color);\n",
              "    box-shadow: 0 1px 2px rgba(60, 64, 67, 0.3), 0 1px 3px 1px rgba(60, 64, 67, 0.15);\n",
              "    fill: var(--button-hover-fill-color);\n",
              "  }\n",
              "\n",
              "  .colab-df-quickchart-complete:disabled,\n",
              "  .colab-df-quickchart-complete:disabled:hover {\n",
              "    background-color: var(--disabled-bg-color);\n",
              "    fill: var(--disabled-fill-color);\n",
              "    box-shadow: none;\n",
              "  }\n",
              "\n",
              "  .colab-df-spinner {\n",
              "    border: 2px solid var(--fill-color);\n",
              "    border-color: transparent;\n",
              "    border-bottom-color: var(--fill-color);\n",
              "    animation:\n",
              "      spin 1s steps(1) infinite;\n",
              "  }\n",
              "\n",
              "  @keyframes spin {\n",
              "    0% {\n",
              "      border-color: transparent;\n",
              "      border-bottom-color: var(--fill-color);\n",
              "      border-left-color: var(--fill-color);\n",
              "    }\n",
              "    20% {\n",
              "      border-color: transparent;\n",
              "      border-left-color: var(--fill-color);\n",
              "      border-top-color: var(--fill-color);\n",
              "    }\n",
              "    30% {\n",
              "      border-color: transparent;\n",
              "      border-left-color: var(--fill-color);\n",
              "      border-top-color: var(--fill-color);\n",
              "      border-right-color: var(--fill-color);\n",
              "    }\n",
              "    40% {\n",
              "      border-color: transparent;\n",
              "      border-right-color: var(--fill-color);\n",
              "      border-top-color: var(--fill-color);\n",
              "    }\n",
              "    60% {\n",
              "      border-color: transparent;\n",
              "      border-right-color: var(--fill-color);\n",
              "    }\n",
              "    80% {\n",
              "      border-color: transparent;\n",
              "      border-right-color: var(--fill-color);\n",
              "      border-bottom-color: var(--fill-color);\n",
              "    }\n",
              "    90% {\n",
              "      border-color: transparent;\n",
              "      border-bottom-color: var(--fill-color);\n",
              "    }\n",
              "  }\n",
              "</style>\n",
              "\n",
              "  <script>\n",
              "    async function quickchart(key) {\n",
              "      const quickchartButtonEl =\n",
              "        document.querySelector('#' + key + ' button');\n",
              "      quickchartButtonEl.disabled = true;  // To prevent multiple clicks.\n",
              "      quickchartButtonEl.classList.add('colab-df-spinner');\n",
              "      try {\n",
              "        const charts = await google.colab.kernel.invokeFunction(\n",
              "            'suggestCharts', [key], {});\n",
              "      } catch (error) {\n",
              "        console.error('Error during call to suggestCharts:', error);\n",
              "      }\n",
              "      quickchartButtonEl.classList.remove('colab-df-spinner');\n",
              "      quickchartButtonEl.classList.add('colab-df-quickchart-complete');\n",
              "    }\n",
              "    (() => {\n",
              "      let quickchartButtonEl =\n",
              "        document.querySelector('#df-0ceb7f83-8d84-441b-9217-05c6409aaaf4 button');\n",
              "      quickchartButtonEl.style.display =\n",
              "        google.colab.kernel.accessAllowed ? 'block' : 'none';\n",
              "    })();\n",
              "  </script>\n",
              "</div>\n",
              "    </div>\n",
              "  </div>\n"
            ],
            "application/vnd.google.colaboratory.intrinsic+json": {
              "type": "dataframe",
              "variable_name": "df",
              "summary": "{\n  \"name\": \"df\",\n  \"rows\": 4,\n  \"fields\": [\n    {\n      \"column\": \"issue_title\",\n      \"properties\": {\n        \"dtype\": \"string\",\n        \"num_unique_values\": 4,\n        \"samples\": [\n          \"[MBA#1128940] Zimbra St\\u00f6rung komplette Schule: E-Mails senden und empfangen (kslzh.ch) funktioniert nicht\",\n          \"KEN: mobile App aufschalten\",\n          \"[MBA#1127156] Layout-Anpassung auf Typo 3 - Webseite (KWI)\"\n        ],\n        \"semantic_type\": \"\",\n        \"description\": \"\"\n      }\n    },\n    {\n      \"column\": \"issue_description\",\n      \"properties\": {\n        \"dtype\": \"string\",\n        \"num_unique_values\": 4,\n        \"samples\": [\n          \"Guten Morgen allerseits    Schule KSLZH  Melder Laszlo Cseri    Problem Zimbra    Wir kslzh.ch k\\u00f6nnen keine EMails senden auch Mails von GMX und icloud.com versendet und empfangen. Im Webmail erhalten wir folgende Hinweise beim versenden von EMails    !clipboard202403250751h8l4i.png!    !clipboard202403250751h6e8a.png!    Eine berpr\\u00fcfung mit MXToolbox zeigt bei einem SMTPCheck folgendes an     !clipboard2024032507512pdnb.png!    D\\u00fcrfen wir euch bitten, das Problem sofort zu beheben?    Nachtrag Bei meinen Recherchen habe ich festgestellt, dass es auch die stud.kslzh.chDomain auch betrifft    !clipboard202403250752fxdsc.png!  \",\n          \"Einfach mal alle Module freischalten\",\n          \"Guten Morgen    Ich habe eine eher spezielle Anfrage von der Kantonsschule Wiedikon.    Die Kantonsschule Wiedikon w\\u00fcnscht eine Layout Anpassung f\\u00fcr mobile Ger\\u00e4te zu machen f\\u00fcr das Video welches auf der Webseite der KWI Baustand der Hohlstrasse hochgeladen wurde. Die Kontaktperson bei fr\\u00fcheren Anpassungen bei euch war Noemi Schmid. Die Schule w\\u00fcnscht nun eine Kontaktaufnahme von euch  mit Herrn Philippe da Silva Wong, Tel. 044 457 71 53 um die Einzelheiten zu besprechen.  W\\u00e4re eine Kontaktaufnahme seitens von euch m\\u00f6glich?    Dieses Ticket eilt ein wenig da es schon l\\u00e4nger auf eine Antwort wartet. Ich habe das Ticket am 27.02.2024 an euch weitergeleitet ohne R\\u00fcckmeldung bis jetzt.     Freundliche Gr\\u00fcsse  Kushtrim Veliji    Bildungsdirektion Kanton Z\\u00fcrich  Mittelschul und Berufsbildungsamt  Digital Service Center Sek II  Ausstellungsstrasse 80  8090 Z\\u00fcrich  Telefon 043 259 77 27\"\n        ],\n        \"semantic_type\": \"\",\n        \"description\": \"\"\n      }\n    },\n    {\n      \"column\": \"combined_text\",\n      \"properties\": {\n        \"dtype\": \"string\",\n        \"num_unique_values\": 4,\n        \"samples\": [\n          \"[MBA#1128940] Zimbra St\\u00f6rung komplette Schule: E-Mails senden und empfangen (kslzh.ch) funktioniert nicht Guten Morgen allerseits    Schule KSLZH  Melder Laszlo Cseri    Problem Zimbra    Wir kslzh.ch k\\u00f6nnen keine EMails senden auch Mails von GMX und icloud.com versendet und empfangen. Im Webmail erhalten wir folgende Hinweise beim versenden von EMails    !clipboard202403250751h8l4i.png!    !clipboard202403250751h6e8a.png!    Eine berpr\\u00fcfung mit MXToolbox zeigt bei einem SMTPCheck folgendes an     !clipboard2024032507512pdnb.png!    D\\u00fcrfen wir euch bitten, das Problem sofort zu beheben?    Nachtrag Bei meinen Recherchen habe ich festgestellt, dass es auch die stud.kslzh.chDomain auch betrifft    !clipboard202403250752fxdsc.png!  \",\n          \"KEN: mobile App aufschalten Einfach mal alle Module freischalten\",\n          \"[MBA#1127156] Layout-Anpassung auf Typo 3 - Webseite (KWI) Guten Morgen    Ich habe eine eher spezielle Anfrage von der Kantonsschule Wiedikon.    Die Kantonsschule Wiedikon w\\u00fcnscht eine Layout Anpassung f\\u00fcr mobile Ger\\u00e4te zu machen f\\u00fcr das Video welches auf der Webseite der KWI Baustand der Hohlstrasse hochgeladen wurde. Die Kontaktperson bei fr\\u00fcheren Anpassungen bei euch war Noemi Schmid. Die Schule w\\u00fcnscht nun eine Kontaktaufnahme von euch  mit Herrn Philippe da Silva Wong, Tel. 044 457 71 53 um die Einzelheiten zu besprechen.  W\\u00e4re eine Kontaktaufnahme seitens von euch m\\u00f6glich?    Dieses Ticket eilt ein wenig da es schon l\\u00e4nger auf eine Antwort wartet. Ich habe das Ticket am 27.02.2024 an euch weitergeleitet ohne R\\u00fcckmeldung bis jetzt.     Freundliche Gr\\u00fcsse  Kushtrim Veliji    Bildungsdirektion Kanton Z\\u00fcrich  Mittelschul und Berufsbildungsamt  Digital Service Center Sek II  Ausstellungsstrasse 80  8090 Z\\u00fcrich  Telefon 043 259 77 27\"\n        ],\n        \"semantic_type\": \"\",\n        \"description\": \"\"\n      }\n    },\n    {\n      \"column\": \"reworked_information\",\n      \"properties\": {\n        \"dtype\": \"string\",\n        \"num_unique_values\": 4,\n        \"samples\": [\n          \"- **Issue:** Support\\n- **Affected Systems:** Zimbra Email Servers (kslzh.ch and stud.kslzh.ch domains)\\n- **Reported Problem:** Users at the school (KSLZH) are unable to send or receive emails using the kslzh.ch domain. They are also experiencing issues with sending and receiving emails from GMX and icloud.com. When attempting to send emails via Webmail, they encounter errors. An MXToolbox check shows issues with SMTP. The problem also affects the stud.kslzh.ch domain. Requesting immediate resolution.\",\n          \"- Issue: Support\\n- Affected Systems: Mobile App\\n- Reported Problem: User is requesting to activate all modules in the mobile app.\",\n          \"- **Issue:** Development\\n- **Affected Systems:** Typo3 website for Kantonsschule Wiedikon (KWI)\\n- **Reported Problem:** Request for a layout adjustment for mobile devices for the video uploaded on the KWI Hohlstrasse construction status on the website. The Kantonsschule Wiedikon is specifically requesting a layout modification. The contact person for previous adjustments was Noemi Schmid. They now wish for contact to be made with Mr. Philippe da Silva Wong at 044 457 71 53 to discuss the details. The urgency of this request is emphasized as it has been awaiting a response since 27.02.2024.\"\n        ],\n        \"semantic_type\": \"\",\n        \"description\": \"\"\n      }\n    },\n    {\n      \"column\": \"reworked_information_cleaned\",\n      \"properties\": {\n        \"dtype\": \"string\",\n        \"num_unique_values\": 4,\n        \"samples\": [\n          \"support zimbra email servers domains users school kslzh unable send receive emails using domain experiencing issues sending receiving emails gmx attempting send emails via webmail encounter errors mxtoolbox check shows issues smtp problem affects domain requesting immediate resolution\",\n          \"support mobile app user requesting activate modules mobile app\",\n          \"development website kantonsschule wiedikon kwi request layout adjustment mobile devices video uploaded kwi hohlstrasse construction status website kantonsschule wiedikon specifically requesting layout modification contact person previous adjustments noemi schmid wish contact made philippe silva wong discuss details urgency request emphasized awaiting response since\"\n        ],\n        \"semantic_type\": \"\",\n        \"description\": \"\"\n      }\n    }\n  ]\n}"
            }
          },
          "metadata": {},
          "execution_count": 62
        }
      ]
    },
    {
      "cell_type": "code",
      "source": [],
      "metadata": {
        "id": "GpLpJh4bFF3u"
      },
      "execution_count": 62,
      "outputs": []
    },
    {
      "cell_type": "code",
      "source": [
        "embeddings = get_embeddings(EMBEDDINGS_SMALL)\n"
      ],
      "metadata": {
        "id": "_4p6rVduggLp",
        "colab": {
          "base_uri": "https://localhost:8080/"
        },
        "outputId": "5ba1a1f5-7708-4769-d259-0b2d36aa5282"
      },
      "execution_count": 118,
      "outputs": [
        {
          "output_type": "stream",
          "name": "stdout",
          "text": [
            "EMBEDDING read:  315\n"
          ]
        }
      ]
    },
    {
      "cell_type": "code",
      "source": [
        "\n"
      ],
      "metadata": {
        "id": "4YQdka_GFCq_"
      },
      "execution_count": 117,
      "outputs": []
    },
    {
      "cell_type": "code",
      "source": [
        "cluster_count = determine_cluster_count(embeddings)"
      ],
      "metadata": {
        "id": "d8ViRoMajTOU",
        "colab": {
          "base_uri": "https://localhost:8080/",
          "height": 490
        },
        "outputId": "a8107605-2ef0-4bee-e08e-b7b66b127e5d"
      },
      "execution_count": 117,
      "outputs": [
        {
          "output_type": "display_data",
          "data": {
            "text/plain": [
              "<Figure size 640x480 with 1 Axes>"
            ],
            "image/png": "[encoded data removed]"
          },
          "metadata": {}
        },
        {
          "output_type": "stream",
          "name": "stdout",
          "text": [
            "NUM 7\n"
          ]
        }
      ]
    },
    {
      "cell_type": "code",
      "source": [
        "print(cluster_count)"
      ],
      "metadata": {
        "colab": {
          "base_uri": "https://localhost:8080/"
        },
        "id": "uiar124pX213",
        "outputId": "f8d8ed03-13a9-4b5c-d019-0fad4a9a69dc"
      },
      "execution_count": 119,
      "outputs": [
        {
          "output_type": "stream",
          "name": "stdout",
          "text": [
            "7\n"
          ]
        }
      ]
    },
    {
      "cell_type": "code",
      "source": [
        "dbscan_clusters, hierarchical_clusters, kmeans_clusters, spectral_clusters = get_cluster_data(embeddings, cluster_count)"
      ],
      "metadata": {
        "colab": {
          "base_uri": "https://localhost:8080/"
        },
        "id": "r1H1pUHlZlA4",
        "outputId": "c176b1b1-0eba-4511-de91-81d23d12b20b"
      },
      "execution_count": 135,
      "outputs": [
        {
          "output_type": "stream",
          "name": "stderr",
          "text": [
            "/usr/local/lib/python3.10/dist-packages/sklearn/cluster/_kmeans.py:870: FutureWarning: The default value of `n_init` will change from 10 to 'auto' in 1.4. Set the value of `n_init` explicitly to suppress the warning\n",
            "  warnings.warn(\n"
          ]
        }
      ]
    },
    {
      "cell_type": "code",
      "source": [
        " visualize_clusters(embeddings, dbscan_clusters, hierarchical_clusters, kmeans_clusters, spectral_clusters)"
      ],
      "metadata": {
        "id": "mt8JVYyNQiQU",
        "colab": {
          "base_uri": "https://localhost:8080/",
          "height": 1000
        },
        "outputId": "c9db6c5f-0233-4033-8774-79c433a2e79c"
      },
      "execution_count": 139,
      "outputs": [
        {
          "output_type": "stream",
          "name": "stderr",
          "text": [
            "/usr/local/lib/python3.10/dist-packages/umap/umap_.py:1945: UserWarning: n_jobs value 1 overridden to 1 by setting random_state. Use no seed for parallelism.\n",
            "  warn(f\"n_jobs value {self.n_jobs} overridden to 1 by setting random_state. Use no seed for parallelism.\")\n"
          ]
        },
        {
          "output_type": "display_data",
          "data": {
            "text/plain": [
              "<Figure size 1000x600 with 2 Axes>"
            ],
            "image/png": "[encoded data removed]"
          },
          "metadata": {}
        },
        {
          "output_type": "stream",
          "name": "stderr",
          "text": [
            "/usr/local/lib/python3.10/dist-packages/umap/umap_.py:1945: UserWarning: n_jobs value 1 overridden to 1 by setting random_state. Use no seed for parallelism.\n",
            "  warn(f\"n_jobs value {self.n_jobs} overridden to 1 by setting random_state. Use no seed for parallelism.\")\n"
          ]
        },
        {
          "output_type": "display_data",
          "data": {
            "text/plain": [
              "<Figure size 1000x600 with 2 Axes>"
            ],
            "image/png": "[encoded data removed]"
          },
          "metadata": {}
        },
        {
          "output_type": "stream",
          "name": "stderr",
          "text": [
            "/usr/local/lib/python3.10/dist-packages/umap/umap_.py:1945: UserWarning: n_jobs value 1 overridden to 1 by setting random_state. Use no seed for parallelism.\n",
            "  warn(f\"n_jobs value {self.n_jobs} overridden to 1 by setting random_state. Use no seed for parallelism.\")\n"
          ]
        },
        {
          "output_type": "display_data",
          "data": {
            "text/plain": [
              "<Figure size 1000x600 with 2 Axes>"
            ],
            "image/png": "[encoded data removed]"
          },
          "metadata": {}
        },
        {
          "output_type": "stream",
          "name": "stderr",
          "text": [
            "/usr/local/lib/python3.10/dist-packages/umap/umap_.py:1945: UserWarning: n_jobs value 1 overridden to 1 by setting random_state. Use no seed for parallelism.\n",
            "  warn(f\"n_jobs value {self.n_jobs} overridden to 1 by setting random_state. Use no seed for parallelism.\")\n"
          ]
        },
        {
          "output_type": "display_data",
          "data": {
            "text/plain": [
              "<Figure size 1000x600 with 2 Axes>"
            ],
            "image/png": "[encoded data removed]"
          },
          "metadata": {}
        }
      ]
    },
    {
      "cell_type": "code",
      "source": [
        "main_clustering_and_evaluation(embeddings, cluster_count)"
      ],
      "metadata": {
        "id": "N6ihHqa3ah2g",
        "colab": {
          "base_uri": "https://localhost:8080/"
        },
        "outputId": "0f30a493-5322-40e0-824d-77ff00b15f56"
      },
      "execution_count": 140,
      "outputs": [
        {
          "output_type": "stream",
          "name": "stderr",
          "text": [
            "/usr/local/lib/python3.10/dist-packages/sklearn/cluster/_kmeans.py:870: FutureWarning: The default value of `n_init` will change from 10 to 'auto' in 1.4. Set the value of `n_init` explicitly to suppress the warning\n",
            "  warnings.warn(\n"
          ]
        },
        {
          "output_type": "stream",
          "name": "stdout",
          "text": [
            "dbscan Silhouette: 0.19565365531266612, dbscan Davies-Bouldin: 1.8466258393268358\n",
            "hierarchical Silhouette: 0.08477509870261125, hierarchical Davies-Bouldin: 2.794224467990209\n",
            "kmeans Silhouette: 0.09491668082332858, kmeans Davies-Bouldin: 2.974605968412386\n",
            "spectral Silhouette: 0.08073416839936377, spectral Davies-Bouldin: 2.8316464852922896\n"
          ]
        }
      ]
    },
    {
      "cell_type": "markdown",
      "source": [
        "Visualization Discrepancy: UMAP reduces dimensionality for visualization and sometimes can make clusters appear more separated than they are in high-dimensional space. The clustering algorithms use the high-dimensional space where clusters might not be as clear-cut."
      ],
      "metadata": {
        "id": "Ja9OYgapd2ID"
      }
    },
    {
      "cell_type": "markdown",
      "source": [
        "so it will be because of the dimensionality reduction i assume. my datas are complex and there is no structure in it. so an overlapping is clear. Im just surprised, why it's quite clear separated in umap but not in score then...\n",
        "if silhouette uses the whole complexitiy (no dim reduction) and umap uses dim reduction. i assume this will be the reason and this would make even sense.\n",
        "without reduction, they can be quite similar the tickets. but if ouy reduce the dims, there maybe get a clearer view of what the real differencies are."
      ],
      "metadata": {
        "id": "Xb18mx6iesoQ"
      }
    },
    {
      "cell_type": "code",
      "source": [],
      "metadata": {
        "id": "U35j1s6-d1Tv"
      },
      "execution_count": null,
      "outputs": []
    },
    {
      "cell_type": "code",
      "source": [
        "# Define an interactive method to set configurations\n",
        "def run_analysis(data_key, embedding_key, cluster_key):\n",
        "    df = load_data(data_config[data_key])\n",
        "    df_preprocessed = preprocess_data(df)\n",
        "    embeddings = get_embeddings(small_initial, df_preprocessed['cleaned_information'])\n",
        "    clusters = cluster_data(clustering_config[cluster_key], embeddings)\n",
        "    scores = evaluate_clusters(embeddings, clusters)\n",
        "    visualize_clusters(embeddings, clusters)\n",
        "    # Here you would log/display the scores for comparison\n",
        "\n",
        "# Create widgets for interactivity\n",
        "widgets.interact(run_analysis,\n",
        "                 data_key=widgets.Dropdown(options=data_config.keys()),\n",
        "                 embedding_key=widgets.Dropdown(options=embedding_config.keys()),\n",
        "                 cluster_key=widgets.Dropdown(options=clustering_config.keys()))\n",
        "\n"
      ],
      "metadata": {
        "id": "C10eoSU2_vtc"
      },
      "execution_count": null,
      "outputs": []
    },
    {
      "cell_type": "code",
      "source": [],
      "metadata": {
        "id": "eKCDX_TB_vzU"
      },
      "execution_count": null,
      "outputs": []
    },
    {
      "cell_type": "code",
      "source": [],
      "metadata": {
        "id": "MxyyNIiV_v5O"
      },
      "execution_count": null,
      "outputs": []
    },
    {
      "cell_type": "code",
      "source": [],
      "metadata": {
        "id": "ULwM1GCNPphf"
      },
      "execution_count": null,
      "outputs": []
    }
  ],
  "metadata": {
    "colab": {
      "gpuType": "T4",
      "machine_shape": "hm",
      "provenance": [],
      "collapsed_sections": [
        "hijF2duoztdt"
      ],
      "mount_file_id": "1twckJoyo6w0GKHcQqeSlp9zCqZN10pPC",
      "authorship_tag": "ABX9TyPmK+ffJidQbh2HtcGG6DQS",
      "include_colab_link": true
    },
    "kernelspec": {
      "display_name": "Python 3",
      "name": "python3"
    },
    "language_info": {
      "name": "python"
    }
  },
  "nbformat": 4,
  "nbformat_minor": 0
}